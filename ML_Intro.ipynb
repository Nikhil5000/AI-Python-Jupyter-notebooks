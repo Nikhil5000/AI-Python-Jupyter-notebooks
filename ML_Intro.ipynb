{
 "cells": [
  {
   "cell_type": "code",
   "execution_count": 1,
   "metadata": {
    "executionInfo": {
     "elapsed": 967,
     "status": "ok",
     "timestamp": 1612775506827,
     "user": {
      "displayName": "Sagar Shinde",
      "photoUrl": "",
      "userId": "15876155479888133658"
     },
     "user_tz": -330
    },
    "id": "oRlXhjVLeRoX"
   },
   "outputs": [],
   "source": [
    "#Import essential libraries\n",
    "import numpy as np\n",
    "import pandas as pd\n",
    "import matplotlib.pyplot as plt"
   ]
  },
  {
   "cell_type": "code",
   "execution_count": 2,
   "metadata": {
    "executionInfo": {
     "elapsed": 1005,
     "status": "ok",
     "timestamp": 1612775508897,
     "user": {
      "displayName": "Sagar Shinde",
      "photoUrl": "",
      "userId": "15876155479888133658"
     },
     "user_tz": -330
    },
    "id": "3ZU-hX1Se5N9"
   },
   "outputs": [
    {
     "ename": "ParserError",
     "evalue": "Error tokenizing data. C error: Expected 1 fields in line 12, saw 2\n",
     "output_type": "error",
     "traceback": [
      "\u001b[1;31m---------------------------------------------------------------------------\u001b[0m",
      "\u001b[1;31mParserError\u001b[0m                               Traceback (most recent call last)",
      "\u001b[1;32m<ipython-input-2-7c849025c85f>\u001b[0m in \u001b[0;36m<module>\u001b[1;34m\u001b[0m\n\u001b[0;32m      1\u001b[0m \u001b[1;31m#Import the dataset\u001b[0m\u001b[1;33m\u001b[0m\u001b[1;33m\u001b[0m\u001b[1;33m\u001b[0m\u001b[0m\n\u001b[1;32m----> 2\u001b[1;33m \u001b[0mdata\u001b[0m \u001b[1;33m=\u001b[0m \u001b[0mpd\u001b[0m\u001b[1;33m.\u001b[0m\u001b[0mread_csv\u001b[0m\u001b[1;33m(\u001b[0m\u001b[1;34m\"http://localhost:8888/edit/Downloads/insurance.csv\"\u001b[0m\u001b[1;33m)\u001b[0m\u001b[1;33m\u001b[0m\u001b[1;33m\u001b[0m\u001b[0m\n\u001b[0m",
      "\u001b[1;32mC:\\Anaconda\\lib\\site-packages\\pandas\\io\\parsers.py\u001b[0m in \u001b[0;36mread_csv\u001b[1;34m(filepath_or_buffer, sep, delimiter, header, names, index_col, usecols, squeeze, prefix, mangle_dupe_cols, dtype, engine, converters, true_values, false_values, skipinitialspace, skiprows, skipfooter, nrows, na_values, keep_default_na, na_filter, verbose, skip_blank_lines, parse_dates, infer_datetime_format, keep_date_col, date_parser, dayfirst, cache_dates, iterator, chunksize, compression, thousands, decimal, lineterminator, quotechar, quoting, doublequote, escapechar, comment, encoding, dialect, error_bad_lines, warn_bad_lines, delim_whitespace, low_memory, memory_map, float_precision)\u001b[0m\n\u001b[0;32m    684\u001b[0m     )\n\u001b[0;32m    685\u001b[0m \u001b[1;33m\u001b[0m\u001b[0m\n\u001b[1;32m--> 686\u001b[1;33m     \u001b[1;32mreturn\u001b[0m \u001b[0m_read\u001b[0m\u001b[1;33m(\u001b[0m\u001b[0mfilepath_or_buffer\u001b[0m\u001b[1;33m,\u001b[0m \u001b[0mkwds\u001b[0m\u001b[1;33m)\u001b[0m\u001b[1;33m\u001b[0m\u001b[1;33m\u001b[0m\u001b[0m\n\u001b[0m\u001b[0;32m    687\u001b[0m \u001b[1;33m\u001b[0m\u001b[0m\n\u001b[0;32m    688\u001b[0m \u001b[1;33m\u001b[0m\u001b[0m\n",
      "\u001b[1;32mC:\\Anaconda\\lib\\site-packages\\pandas\\io\\parsers.py\u001b[0m in \u001b[0;36m_read\u001b[1;34m(filepath_or_buffer, kwds)\u001b[0m\n\u001b[0;32m    456\u001b[0m \u001b[1;33m\u001b[0m\u001b[0m\n\u001b[0;32m    457\u001b[0m     \u001b[1;32mtry\u001b[0m\u001b[1;33m:\u001b[0m\u001b[1;33m\u001b[0m\u001b[1;33m\u001b[0m\u001b[0m\n\u001b[1;32m--> 458\u001b[1;33m         \u001b[0mdata\u001b[0m \u001b[1;33m=\u001b[0m \u001b[0mparser\u001b[0m\u001b[1;33m.\u001b[0m\u001b[0mread\u001b[0m\u001b[1;33m(\u001b[0m\u001b[0mnrows\u001b[0m\u001b[1;33m)\u001b[0m\u001b[1;33m\u001b[0m\u001b[1;33m\u001b[0m\u001b[0m\n\u001b[0m\u001b[0;32m    459\u001b[0m     \u001b[1;32mfinally\u001b[0m\u001b[1;33m:\u001b[0m\u001b[1;33m\u001b[0m\u001b[1;33m\u001b[0m\u001b[0m\n\u001b[0;32m    460\u001b[0m         \u001b[0mparser\u001b[0m\u001b[1;33m.\u001b[0m\u001b[0mclose\u001b[0m\u001b[1;33m(\u001b[0m\u001b[1;33m)\u001b[0m\u001b[1;33m\u001b[0m\u001b[1;33m\u001b[0m\u001b[0m\n",
      "\u001b[1;32mC:\\Anaconda\\lib\\site-packages\\pandas\\io\\parsers.py\u001b[0m in \u001b[0;36mread\u001b[1;34m(self, nrows)\u001b[0m\n\u001b[0;32m   1194\u001b[0m     \u001b[1;32mdef\u001b[0m \u001b[0mread\u001b[0m\u001b[1;33m(\u001b[0m\u001b[0mself\u001b[0m\u001b[1;33m,\u001b[0m \u001b[0mnrows\u001b[0m\u001b[1;33m=\u001b[0m\u001b[1;32mNone\u001b[0m\u001b[1;33m)\u001b[0m\u001b[1;33m:\u001b[0m\u001b[1;33m\u001b[0m\u001b[1;33m\u001b[0m\u001b[0m\n\u001b[0;32m   1195\u001b[0m         \u001b[0mnrows\u001b[0m \u001b[1;33m=\u001b[0m \u001b[0m_validate_integer\u001b[0m\u001b[1;33m(\u001b[0m\u001b[1;34m\"nrows\"\u001b[0m\u001b[1;33m,\u001b[0m \u001b[0mnrows\u001b[0m\u001b[1;33m)\u001b[0m\u001b[1;33m\u001b[0m\u001b[1;33m\u001b[0m\u001b[0m\n\u001b[1;32m-> 1196\u001b[1;33m         \u001b[0mret\u001b[0m \u001b[1;33m=\u001b[0m \u001b[0mself\u001b[0m\u001b[1;33m.\u001b[0m\u001b[0m_engine\u001b[0m\u001b[1;33m.\u001b[0m\u001b[0mread\u001b[0m\u001b[1;33m(\u001b[0m\u001b[0mnrows\u001b[0m\u001b[1;33m)\u001b[0m\u001b[1;33m\u001b[0m\u001b[1;33m\u001b[0m\u001b[0m\n\u001b[0m\u001b[0;32m   1197\u001b[0m \u001b[1;33m\u001b[0m\u001b[0m\n\u001b[0;32m   1198\u001b[0m         \u001b[1;31m# May alter columns / col_dict\u001b[0m\u001b[1;33m\u001b[0m\u001b[1;33m\u001b[0m\u001b[1;33m\u001b[0m\u001b[0m\n",
      "\u001b[1;32mC:\\Anaconda\\lib\\site-packages\\pandas\\io\\parsers.py\u001b[0m in \u001b[0;36mread\u001b[1;34m(self, nrows)\u001b[0m\n\u001b[0;32m   2153\u001b[0m     \u001b[1;32mdef\u001b[0m \u001b[0mread\u001b[0m\u001b[1;33m(\u001b[0m\u001b[0mself\u001b[0m\u001b[1;33m,\u001b[0m \u001b[0mnrows\u001b[0m\u001b[1;33m=\u001b[0m\u001b[1;32mNone\u001b[0m\u001b[1;33m)\u001b[0m\u001b[1;33m:\u001b[0m\u001b[1;33m\u001b[0m\u001b[1;33m\u001b[0m\u001b[0m\n\u001b[0;32m   2154\u001b[0m         \u001b[1;32mtry\u001b[0m\u001b[1;33m:\u001b[0m\u001b[1;33m\u001b[0m\u001b[1;33m\u001b[0m\u001b[0m\n\u001b[1;32m-> 2155\u001b[1;33m             \u001b[0mdata\u001b[0m \u001b[1;33m=\u001b[0m \u001b[0mself\u001b[0m\u001b[1;33m.\u001b[0m\u001b[0m_reader\u001b[0m\u001b[1;33m.\u001b[0m\u001b[0mread\u001b[0m\u001b[1;33m(\u001b[0m\u001b[0mnrows\u001b[0m\u001b[1;33m)\u001b[0m\u001b[1;33m\u001b[0m\u001b[1;33m\u001b[0m\u001b[0m\n\u001b[0m\u001b[0;32m   2156\u001b[0m         \u001b[1;32mexcept\u001b[0m \u001b[0mStopIteration\u001b[0m\u001b[1;33m:\u001b[0m\u001b[1;33m\u001b[0m\u001b[1;33m\u001b[0m\u001b[0m\n\u001b[0;32m   2157\u001b[0m             \u001b[1;32mif\u001b[0m \u001b[0mself\u001b[0m\u001b[1;33m.\u001b[0m\u001b[0m_first_chunk\u001b[0m\u001b[1;33m:\u001b[0m\u001b[1;33m\u001b[0m\u001b[1;33m\u001b[0m\u001b[0m\n",
      "\u001b[1;32mpandas\\_libs\\parsers.pyx\u001b[0m in \u001b[0;36mpandas._libs.parsers.TextReader.read\u001b[1;34m()\u001b[0m\n",
      "\u001b[1;32mpandas\\_libs\\parsers.pyx\u001b[0m in \u001b[0;36mpandas._libs.parsers.TextReader._read_low_memory\u001b[1;34m()\u001b[0m\n",
      "\u001b[1;32mpandas\\_libs\\parsers.pyx\u001b[0m in \u001b[0;36mpandas._libs.parsers.TextReader._read_rows\u001b[1;34m()\u001b[0m\n",
      "\u001b[1;32mpandas\\_libs\\parsers.pyx\u001b[0m in \u001b[0;36mpandas._libs.parsers.TextReader._tokenize_rows\u001b[1;34m()\u001b[0m\n",
      "\u001b[1;32mpandas\\_libs\\parsers.pyx\u001b[0m in \u001b[0;36mpandas._libs.parsers.raise_parser_error\u001b[1;34m()\u001b[0m\n",
      "\u001b[1;31mParserError\u001b[0m: Error tokenizing data. C error: Expected 1 fields in line 12, saw 2\n"
     ]
    }
   ],
   "source": [
    "#Import the dataset\n",
    "data = pd.read_csv(\"http://localhost:8888/edit/Downloads/insurance.csv\")"
   ]
  },
  {
   "cell_type": "code",
   "execution_count": null,
   "metadata": {
    "colab": {
     "base_uri": "https://localhost:8080/",
     "height": 204
    },
    "executionInfo": {
     "elapsed": 935,
     "status": "ok",
     "timestamp": 1612775510915,
     "user": {
      "displayName": "Sagar Shinde",
      "photoUrl": "",
      "userId": "15876155479888133658"
     },
     "user_tz": -330
    },
    "id": "L7qPZljchc0_",
    "outputId": "ef6f29e7-a939-40ad-8583-cad85bf8581d"
   },
   "outputs": [],
   "source": [
    "#Look at the first few records of dataset\n",
    "data.head()"
   ]
  },
  {
   "cell_type": "code",
   "execution_count": null,
   "metadata": {
    "colab": {
     "base_uri": "https://localhost:8080/",
     "height": 297
    },
    "executionInfo": {
     "elapsed": 952,
     "status": "ok",
     "timestamp": 1612775517229,
     "user": {
      "displayName": "Sagar Shinde",
      "photoUrl": "",
      "userId": "15876155479888133658"
     },
     "user_tz": -330
    },
    "id": "6Erf_XELhkcu",
    "outputId": "08895614-2a03-43bd-9fc5-15cc1d624291"
   },
   "outputs": [],
   "source": [
    "#Look at the statistcical details of the data\n",
    "data.describe()"
   ]
  },
  {
   "cell_type": "code",
   "execution_count": 124,
   "metadata": {
    "colab": {
     "base_uri": "https://localhost:8080/"
    },
    "executionInfo": {
     "elapsed": 916,
     "status": "ok",
     "timestamp": 1612775530693,
     "user": {
      "displayName": "Sagar Shinde",
      "photoUrl": "",
      "userId": "15876155479888133658"
     },
     "user_tz": -330
    },
    "id": "jadBpBdjjyyd",
    "outputId": "2725f0b7-6273-4e60-808c-04bc6a81c4d4"
   },
   "outputs": [
    {
     "name": "stdout",
     "output_type": "stream",
     "text": [
      "<class 'pandas.core.frame.DataFrame'>\n",
      "RangeIndex: 1338 entries, 0 to 1337\n",
      "Data columns (total 7 columns):\n",
      " #   Column    Non-Null Count  Dtype  \n",
      "---  ------    --------------  -----  \n",
      " 0   age       1338 non-null   int64  \n",
      " 1   sex       1338 non-null   object \n",
      " 2   bmi       1338 non-null   float64\n",
      " 3   children  1338 non-null   int64  \n",
      " 4   smoker    1338 non-null   object \n",
      " 5   region    1338 non-null   object \n",
      " 6   charges   1338 non-null   float64\n",
      "dtypes: float64(2), int64(2), object(3)\n",
      "memory usage: 73.3+ KB\n"
     ]
    }
   ],
   "source": [
    "#Look at the details of the variables of data\n",
    "data.info()"
   ]
  },
  {
   "cell_type": "code",
   "execution_count": 125,
   "metadata": {
    "colab": {
     "base_uri": "https://localhost:8080/"
    },
    "executionInfo": {
     "elapsed": 924,
     "status": "ok",
     "timestamp": 1612775542403,
     "user": {
      "displayName": "Sagar Shinde",
      "photoUrl": "",
      "userId": "15876155479888133658"
     },
     "user_tz": -330
    },
    "id": "0I8VzsKwkLk9",
    "outputId": "73af9da6-c7c9-49d2-eefb-c486bb881287"
   },
   "outputs": [
    {
     "data": {
      "text/plain": [
       "age         0\n",
       "sex         0\n",
       "bmi         0\n",
       "children    0\n",
       "smoker      0\n",
       "region      0\n",
       "charges     0\n",
       "dtype: int64"
      ]
     },
     "execution_count": 125,
     "metadata": {
      "tags": []
     },
     "output_type": "execute_result"
    }
   ],
   "source": [
    "#Look for missing values in data\n",
    "data.isna().sum()"
   ]
  },
  {
   "cell_type": "code",
   "execution_count": 71,
   "metadata": {
    "colab": {
     "base_uri": "https://localhost:8080/",
     "height": 224
    },
    "executionInfo": {
     "elapsed": 660,
     "status": "ok",
     "timestamp": 1612773625266,
     "user": {
      "displayName": "Sagar Shinde",
      "photoUrl": "",
      "userId": "15876155479888133658"
     },
     "user_tz": -330
    },
    "id": "q6tP8S_9kYn7",
    "outputId": "dadeaf5f-f323-49a0-cc26-e4678719458e"
   },
   "outputs": [
    {
     "data": {
      "text/html": [
       "<div>\n",
       "<style scoped>\n",
       "    .dataframe tbody tr th:only-of-type {\n",
       "        vertical-align: middle;\n",
       "    }\n",
       "\n",
       "    .dataframe tbody tr th {\n",
       "        vertical-align: top;\n",
       "    }\n",
       "\n",
       "    .dataframe thead th {\n",
       "        text-align: right;\n",
       "    }\n",
       "</style>\n",
       "<table border=\"1\" class=\"dataframe\">\n",
       "  <thead>\n",
       "    <tr style=\"text-align: right;\">\n",
       "      <th></th>\n",
       "      <th>age</th>\n",
       "      <th>bmi</th>\n",
       "      <th>children</th>\n",
       "      <th>charges</th>\n",
       "      <th>sex_female</th>\n",
       "      <th>sex_male</th>\n",
       "      <th>smoker_no</th>\n",
       "      <th>smoker_yes</th>\n",
       "      <th>region_northeast</th>\n",
       "      <th>region_northwest</th>\n",
       "      <th>region_southeast</th>\n",
       "      <th>region_southwest</th>\n",
       "    </tr>\n",
       "  </thead>\n",
       "  <tbody>\n",
       "    <tr>\n",
       "      <th>0</th>\n",
       "      <td>19</td>\n",
       "      <td>27.900</td>\n",
       "      <td>0</td>\n",
       "      <td>16884.92400</td>\n",
       "      <td>1</td>\n",
       "      <td>0</td>\n",
       "      <td>0</td>\n",
       "      <td>1</td>\n",
       "      <td>0</td>\n",
       "      <td>0</td>\n",
       "      <td>0</td>\n",
       "      <td>1</td>\n",
       "    </tr>\n",
       "    <tr>\n",
       "      <th>1</th>\n",
       "      <td>18</td>\n",
       "      <td>33.770</td>\n",
       "      <td>1</td>\n",
       "      <td>1725.55230</td>\n",
       "      <td>0</td>\n",
       "      <td>1</td>\n",
       "      <td>1</td>\n",
       "      <td>0</td>\n",
       "      <td>0</td>\n",
       "      <td>0</td>\n",
       "      <td>1</td>\n",
       "      <td>0</td>\n",
       "    </tr>\n",
       "    <tr>\n",
       "      <th>2</th>\n",
       "      <td>28</td>\n",
       "      <td>33.000</td>\n",
       "      <td>3</td>\n",
       "      <td>4449.46200</td>\n",
       "      <td>0</td>\n",
       "      <td>1</td>\n",
       "      <td>1</td>\n",
       "      <td>0</td>\n",
       "      <td>0</td>\n",
       "      <td>0</td>\n",
       "      <td>1</td>\n",
       "      <td>0</td>\n",
       "    </tr>\n",
       "    <tr>\n",
       "      <th>3</th>\n",
       "      <td>33</td>\n",
       "      <td>22.705</td>\n",
       "      <td>0</td>\n",
       "      <td>21984.47061</td>\n",
       "      <td>0</td>\n",
       "      <td>1</td>\n",
       "      <td>1</td>\n",
       "      <td>0</td>\n",
       "      <td>0</td>\n",
       "      <td>1</td>\n",
       "      <td>0</td>\n",
       "      <td>0</td>\n",
       "    </tr>\n",
       "    <tr>\n",
       "      <th>4</th>\n",
       "      <td>32</td>\n",
       "      <td>28.880</td>\n",
       "      <td>0</td>\n",
       "      <td>3866.85520</td>\n",
       "      <td>0</td>\n",
       "      <td>1</td>\n",
       "      <td>1</td>\n",
       "      <td>0</td>\n",
       "      <td>0</td>\n",
       "      <td>1</td>\n",
       "      <td>0</td>\n",
       "      <td>0</td>\n",
       "    </tr>\n",
       "  </tbody>\n",
       "</table>\n",
       "</div>"
      ],
      "text/plain": [
       "   age     bmi  children  ...  region_northwest  region_southeast  region_southwest\n",
       "0   19  27.900         0  ...                 0                 0                 1\n",
       "1   18  33.770         1  ...                 0                 1                 0\n",
       "2   28  33.000         3  ...                 0                 1                 0\n",
       "3   33  22.705         0  ...                 1                 0                 0\n",
       "4   32  28.880         0  ...                 1                 0                 0\n",
       "\n",
       "[5 rows x 12 columns]"
      ]
     },
     "execution_count": 71,
     "metadata": {
      "tags": []
     },
     "output_type": "execute_result"
    }
   ],
   "source": [
    "#Get the data in numerical form\n",
    "data = pd.get_dummies(data)\n",
    "data.head()"
   ]
  },
  {
   "cell_type": "code",
   "execution_count": 72,
   "metadata": {
    "executionInfo": {
     "elapsed": 927,
     "status": "ok",
     "timestamp": 1612773630498,
     "user": {
      "displayName": "Sagar Shinde",
      "photoUrl": "",
      "userId": "15876155479888133658"
     },
     "user_tz": -330
    },
    "id": "ypmDYyMfmkDz"
   },
   "outputs": [],
   "source": [
    "data.drop(['sex_female','smoker_no'],axis = 1,inplace = True)"
   ]
  },
  {
   "cell_type": "code",
   "execution_count": 73,
   "metadata": {
    "executionInfo": {
     "elapsed": 682,
     "status": "ok",
     "timestamp": 1612773632027,
     "user": {
      "displayName": "Sagar Shinde",
      "photoUrl": "",
      "userId": "15876155479888133658"
     },
     "user_tz": -330
    },
    "id": "MLa2AXgspzFX"
   },
   "outputs": [],
   "source": [
    "data.rename(columns = {'sex_male':'gender','smoker_yes':'smoker'},inplace = True)"
   ]
  },
  {
   "cell_type": "code",
   "execution_count": 74,
   "metadata": {
    "colab": {
     "base_uri": "https://localhost:8080/",
     "height": 224
    },
    "executionInfo": {
     "elapsed": 735,
     "status": "ok",
     "timestamp": 1612773633579,
     "user": {
      "displayName": "Sagar Shinde",
      "photoUrl": "",
      "userId": "15876155479888133658"
     },
     "user_tz": -330
    },
    "id": "ifdekXynqrXc",
    "outputId": "7c1af19d-a4d1-4470-f420-832c3ee0bbc5"
   },
   "outputs": [
    {
     "data": {
      "text/html": [
       "<div>\n",
       "<style scoped>\n",
       "    .dataframe tbody tr th:only-of-type {\n",
       "        vertical-align: middle;\n",
       "    }\n",
       "\n",
       "    .dataframe tbody tr th {\n",
       "        vertical-align: top;\n",
       "    }\n",
       "\n",
       "    .dataframe thead th {\n",
       "        text-align: right;\n",
       "    }\n",
       "</style>\n",
       "<table border=\"1\" class=\"dataframe\">\n",
       "  <thead>\n",
       "    <tr style=\"text-align: right;\">\n",
       "      <th></th>\n",
       "      <th>age</th>\n",
       "      <th>bmi</th>\n",
       "      <th>children</th>\n",
       "      <th>charges</th>\n",
       "      <th>gender</th>\n",
       "      <th>smoker</th>\n",
       "      <th>region_northeast</th>\n",
       "      <th>region_northwest</th>\n",
       "      <th>region_southeast</th>\n",
       "      <th>region_southwest</th>\n",
       "    </tr>\n",
       "  </thead>\n",
       "  <tbody>\n",
       "    <tr>\n",
       "      <th>0</th>\n",
       "      <td>19</td>\n",
       "      <td>27.900</td>\n",
       "      <td>0</td>\n",
       "      <td>16884.92400</td>\n",
       "      <td>0</td>\n",
       "      <td>1</td>\n",
       "      <td>0</td>\n",
       "      <td>0</td>\n",
       "      <td>0</td>\n",
       "      <td>1</td>\n",
       "    </tr>\n",
       "    <tr>\n",
       "      <th>1</th>\n",
       "      <td>18</td>\n",
       "      <td>33.770</td>\n",
       "      <td>1</td>\n",
       "      <td>1725.55230</td>\n",
       "      <td>1</td>\n",
       "      <td>0</td>\n",
       "      <td>0</td>\n",
       "      <td>0</td>\n",
       "      <td>1</td>\n",
       "      <td>0</td>\n",
       "    </tr>\n",
       "    <tr>\n",
       "      <th>2</th>\n",
       "      <td>28</td>\n",
       "      <td>33.000</td>\n",
       "      <td>3</td>\n",
       "      <td>4449.46200</td>\n",
       "      <td>1</td>\n",
       "      <td>0</td>\n",
       "      <td>0</td>\n",
       "      <td>0</td>\n",
       "      <td>1</td>\n",
       "      <td>0</td>\n",
       "    </tr>\n",
       "    <tr>\n",
       "      <th>3</th>\n",
       "      <td>33</td>\n",
       "      <td>22.705</td>\n",
       "      <td>0</td>\n",
       "      <td>21984.47061</td>\n",
       "      <td>1</td>\n",
       "      <td>0</td>\n",
       "      <td>0</td>\n",
       "      <td>1</td>\n",
       "      <td>0</td>\n",
       "      <td>0</td>\n",
       "    </tr>\n",
       "    <tr>\n",
       "      <th>4</th>\n",
       "      <td>32</td>\n",
       "      <td>28.880</td>\n",
       "      <td>0</td>\n",
       "      <td>3866.85520</td>\n",
       "      <td>1</td>\n",
       "      <td>0</td>\n",
       "      <td>0</td>\n",
       "      <td>1</td>\n",
       "      <td>0</td>\n",
       "      <td>0</td>\n",
       "    </tr>\n",
       "  </tbody>\n",
       "</table>\n",
       "</div>"
      ],
      "text/plain": [
       "   age     bmi  children  ...  region_northwest  region_southeast  region_southwest\n",
       "0   19  27.900         0  ...                 0                 0                 1\n",
       "1   18  33.770         1  ...                 0                 1                 0\n",
       "2   28  33.000         3  ...                 0                 1                 0\n",
       "3   33  22.705         0  ...                 1                 0                 0\n",
       "4   32  28.880         0  ...                 1                 0                 0\n",
       "\n",
       "[5 rows x 10 columns]"
      ]
     },
     "execution_count": 74,
     "metadata": {
      "tags": []
     },
     "output_type": "execute_result"
    }
   ],
   "source": [
    "data.head()"
   ]
  },
  {
   "cell_type": "code",
   "execution_count": 75,
   "metadata": {
    "colab": {
     "base_uri": "https://localhost:8080/",
     "height": 224
    },
    "executionInfo": {
     "elapsed": 957,
     "status": "ok",
     "timestamp": 1612773638696,
     "user": {
      "displayName": "Sagar Shinde",
      "photoUrl": "",
      "userId": "15876155479888133658"
     },
     "user_tz": -330
    },
    "id": "ullfKJNzq-R7",
    "outputId": "f94adedd-cf1d-4474-e454-c0f810b87215"
   },
   "outputs": [
    {
     "data": {
      "text/html": [
       "<div>\n",
       "<style scoped>\n",
       "    .dataframe tbody tr th:only-of-type {\n",
       "        vertical-align: middle;\n",
       "    }\n",
       "\n",
       "    .dataframe tbody tr th {\n",
       "        vertical-align: top;\n",
       "    }\n",
       "\n",
       "    .dataframe thead th {\n",
       "        text-align: right;\n",
       "    }\n",
       "</style>\n",
       "<table border=\"1\" class=\"dataframe\">\n",
       "  <thead>\n",
       "    <tr style=\"text-align: right;\">\n",
       "      <th></th>\n",
       "      <th>age</th>\n",
       "      <th>bmi</th>\n",
       "      <th>children</th>\n",
       "      <th>gender</th>\n",
       "      <th>smoker</th>\n",
       "      <th>region_northeast</th>\n",
       "      <th>region_northwest</th>\n",
       "      <th>region_southeast</th>\n",
       "      <th>region_southwest</th>\n",
       "    </tr>\n",
       "  </thead>\n",
       "  <tbody>\n",
       "    <tr>\n",
       "      <th>0</th>\n",
       "      <td>19</td>\n",
       "      <td>27.900</td>\n",
       "      <td>0</td>\n",
       "      <td>0</td>\n",
       "      <td>1</td>\n",
       "      <td>0</td>\n",
       "      <td>0</td>\n",
       "      <td>0</td>\n",
       "      <td>1</td>\n",
       "    </tr>\n",
       "    <tr>\n",
       "      <th>1</th>\n",
       "      <td>18</td>\n",
       "      <td>33.770</td>\n",
       "      <td>1</td>\n",
       "      <td>1</td>\n",
       "      <td>0</td>\n",
       "      <td>0</td>\n",
       "      <td>0</td>\n",
       "      <td>1</td>\n",
       "      <td>0</td>\n",
       "    </tr>\n",
       "    <tr>\n",
       "      <th>2</th>\n",
       "      <td>28</td>\n",
       "      <td>33.000</td>\n",
       "      <td>3</td>\n",
       "      <td>1</td>\n",
       "      <td>0</td>\n",
       "      <td>0</td>\n",
       "      <td>0</td>\n",
       "      <td>1</td>\n",
       "      <td>0</td>\n",
       "    </tr>\n",
       "    <tr>\n",
       "      <th>3</th>\n",
       "      <td>33</td>\n",
       "      <td>22.705</td>\n",
       "      <td>0</td>\n",
       "      <td>1</td>\n",
       "      <td>0</td>\n",
       "      <td>0</td>\n",
       "      <td>1</td>\n",
       "      <td>0</td>\n",
       "      <td>0</td>\n",
       "    </tr>\n",
       "    <tr>\n",
       "      <th>4</th>\n",
       "      <td>32</td>\n",
       "      <td>28.880</td>\n",
       "      <td>0</td>\n",
       "      <td>1</td>\n",
       "      <td>0</td>\n",
       "      <td>0</td>\n",
       "      <td>1</td>\n",
       "      <td>0</td>\n",
       "      <td>0</td>\n",
       "    </tr>\n",
       "  </tbody>\n",
       "</table>\n",
       "</div>"
      ],
      "text/plain": [
       "   age     bmi  children  ...  region_northwest  region_southeast  region_southwest\n",
       "0   19  27.900         0  ...                 0                 0                 1\n",
       "1   18  33.770         1  ...                 0                 1                 0\n",
       "2   28  33.000         3  ...                 0                 1                 0\n",
       "3   33  22.705         0  ...                 1                 0                 0\n",
       "4   32  28.880         0  ...                 1                 0                 0\n",
       "\n",
       "[5 rows x 9 columns]"
      ]
     },
     "execution_count": 75,
     "metadata": {
      "tags": []
     },
     "output_type": "execute_result"
    }
   ],
   "source": [
    "#Dividing data in independant and dependant datasets\n",
    "\n",
    "#Idependant Variable\n",
    "X = data.drop('charges',axis = 1)\n",
    "X.head()"
   ]
  },
  {
   "cell_type": "code",
   "execution_count": 76,
   "metadata": {
    "colab": {
     "base_uri": "https://localhost:8080/",
     "height": 204
    },
    "executionInfo": {
     "elapsed": 958,
     "status": "ok",
     "timestamp": 1612773641261,
     "user": {
      "displayName": "Sagar Shinde",
      "photoUrl": "",
      "userId": "15876155479888133658"
     },
     "user_tz": -330
    },
    "id": "xRNtbwtXrjdr",
    "outputId": "8c799261-ea12-4db8-cccf-a6285223aad9"
   },
   "outputs": [
    {
     "data": {
      "text/html": [
       "<div>\n",
       "<style scoped>\n",
       "    .dataframe tbody tr th:only-of-type {\n",
       "        vertical-align: middle;\n",
       "    }\n",
       "\n",
       "    .dataframe tbody tr th {\n",
       "        vertical-align: top;\n",
       "    }\n",
       "\n",
       "    .dataframe thead th {\n",
       "        text-align: right;\n",
       "    }\n",
       "</style>\n",
       "<table border=\"1\" class=\"dataframe\">\n",
       "  <thead>\n",
       "    <tr style=\"text-align: right;\">\n",
       "      <th></th>\n",
       "      <th>charges</th>\n",
       "    </tr>\n",
       "  </thead>\n",
       "  <tbody>\n",
       "    <tr>\n",
       "      <th>0</th>\n",
       "      <td>16884.92400</td>\n",
       "    </tr>\n",
       "    <tr>\n",
       "      <th>1</th>\n",
       "      <td>1725.55230</td>\n",
       "    </tr>\n",
       "    <tr>\n",
       "      <th>2</th>\n",
       "      <td>4449.46200</td>\n",
       "    </tr>\n",
       "    <tr>\n",
       "      <th>3</th>\n",
       "      <td>21984.47061</td>\n",
       "    </tr>\n",
       "    <tr>\n",
       "      <th>4</th>\n",
       "      <td>3866.85520</td>\n",
       "    </tr>\n",
       "  </tbody>\n",
       "</table>\n",
       "</div>"
      ],
      "text/plain": [
       "       charges\n",
       "0  16884.92400\n",
       "1   1725.55230\n",
       "2   4449.46200\n",
       "3  21984.47061\n",
       "4   3866.85520"
      ]
     },
     "execution_count": 76,
     "metadata": {
      "tags": []
     },
     "output_type": "execute_result"
    }
   ],
   "source": [
    "#Dependant Variable\n",
    "Y = pd.DataFrame(data['charges'])\n",
    "Y.head()"
   ]
  },
  {
   "cell_type": "code",
   "execution_count": 77,
   "metadata": {
    "colab": {
     "base_uri": "https://localhost:8080/"
    },
    "executionInfo": {
     "elapsed": 921,
     "status": "ok",
     "timestamp": 1612773646327,
     "user": {
      "displayName": "Sagar Shinde",
      "photoUrl": "",
      "userId": "15876155479888133658"
     },
     "user_tz": -330
    },
    "id": "5ddIH2fvsUwQ",
    "outputId": "c0ab185b-9b5a-479f-af51-c1f40b82ce05"
   },
   "outputs": [
    {
     "name": "stdout",
     "output_type": "stream",
     "text": [
      "(1070, 9)\n",
      "(1070, 1)\n",
      "(268, 9)\n",
      "(268, 1)\n"
     ]
    }
   ],
   "source": [
    "#Divide the data into training and testing data\n",
    "from sklearn.model_selection import train_test_split\n",
    "\n",
    "X_train, X_test ,  Y_train ,Y_test = train_test_split(X,Y, test_size = 0.2 , random_state = 2)\n",
    "\n",
    "print(X_train.shape)\n",
    "print(Y_train.shape)\n",
    "print(X_test.shape)\n",
    "print(Y_test.shape)"
   ]
  },
  {
   "cell_type": "code",
   "execution_count": 78,
   "metadata": {
    "executionInfo": {
     "elapsed": 974,
     "status": "ok",
     "timestamp": 1612773648313,
     "user": {
      "displayName": "Sagar Shinde",
      "photoUrl": "",
      "userId": "15876155479888133658"
     },
     "user_tz": -330
    },
    "id": "Vhmr_23dt-YS"
   },
   "outputs": [],
   "source": [
    "#Lets implement simple linear regression\n",
    "\n",
    "from sklearn.linear_model import LinearRegression\n",
    "\n",
    "simple_linreg = LinearRegression()"
   ]
  },
  {
   "cell_type": "code",
   "execution_count": 79,
   "metadata": {
    "executionInfo": {
     "elapsed": 1025,
     "status": "ok",
     "timestamp": 1612773654124,
     "user": {
      "displayName": "Sagar Shinde",
      "photoUrl": "",
      "userId": "15876155479888133658"
     },
     "user_tz": -330
    },
    "id": "uS84TYCDutmU"
   },
   "outputs": [],
   "source": [
    "#Fit or train the model with training data\n",
    "simple_linreg.fit(pd.DataFrame(X_train.smoker) , Y_train)\n",
    "\n",
    "#Predict on the test set for single feature \n",
    "Y_pred = simple_linreg.predict(pd.DataFrame(X_test.smoker))"
   ]
  },
  {
   "cell_type": "code",
   "execution_count": 80,
   "metadata": {
    "colab": {
     "base_uri": "https://localhost:8080/"
    },
    "executionInfo": {
     "elapsed": 968,
     "status": "ok",
     "timestamp": 1612773655908,
     "user": {
      "displayName": "Sagar Shinde",
      "photoUrl": "",
      "userId": "15876155479888133658"
     },
     "user_tz": -330
    },
    "id": "ZxLl86CdwHrb",
    "outputId": "8e3ef98c-94cb-40ad-ef1f-9e96b48a28b5"
   },
   "outputs": [
    {
     "data": {
      "text/plain": [
       "array([[ 8525.30007694],\n",
       "       [ 8525.30007694],\n",
       "       [ 8525.30007694],\n",
       "       [ 8525.30007694],\n",
       "       [ 8525.30007694],\n",
       "       [ 8525.30007694],\n",
       "       [ 8525.30007694],\n",
       "       [ 8525.30007694],\n",
       "       [ 8525.30007694],\n",
       "       [ 8525.30007694],\n",
       "       [ 8525.30007694],\n",
       "       [ 8525.30007694],\n",
       "       [32221.61500274],\n",
       "       [ 8525.30007694],\n",
       "       [ 8525.30007694],\n",
       "       [ 8525.30007694],\n",
       "       [ 8525.30007694],\n",
       "       [ 8525.30007694],\n",
       "       [32221.61500274],\n",
       "       [ 8525.30007694],\n",
       "       [ 8525.30007694],\n",
       "       [ 8525.30007694],\n",
       "       [32221.61500274],\n",
       "       [32221.61500274],\n",
       "       [32221.61500274],\n",
       "       [ 8525.30007694],\n",
       "       [ 8525.30007694],\n",
       "       [ 8525.30007694],\n",
       "       [ 8525.30007694],\n",
       "       [ 8525.30007694],\n",
       "       [ 8525.30007694],\n",
       "       [ 8525.30007694],\n",
       "       [ 8525.30007694],\n",
       "       [ 8525.30007694],\n",
       "       [ 8525.30007694],\n",
       "       [ 8525.30007694],\n",
       "       [32221.61500274],\n",
       "       [ 8525.30007694],\n",
       "       [32221.61500274],\n",
       "       [ 8525.30007694],\n",
       "       [ 8525.30007694],\n",
       "       [32221.61500274],\n",
       "       [ 8525.30007694],\n",
       "       [ 8525.30007694],\n",
       "       [ 8525.30007694],\n",
       "       [ 8525.30007694],\n",
       "       [ 8525.30007694],\n",
       "       [ 8525.30007694],\n",
       "       [ 8525.30007694],\n",
       "       [ 8525.30007694],\n",
       "       [ 8525.30007694],\n",
       "       [ 8525.30007694],\n",
       "       [32221.61500274],\n",
       "       [32221.61500274],\n",
       "       [ 8525.30007694],\n",
       "       [ 8525.30007694],\n",
       "       [ 8525.30007694],\n",
       "       [ 8525.30007694],\n",
       "       [ 8525.30007694],\n",
       "       [32221.61500274],\n",
       "       [ 8525.30007694],\n",
       "       [ 8525.30007694],\n",
       "       [ 8525.30007694],\n",
       "       [32221.61500274],\n",
       "       [ 8525.30007694],\n",
       "       [ 8525.30007694],\n",
       "       [ 8525.30007694],\n",
       "       [ 8525.30007694],\n",
       "       [ 8525.30007694],\n",
       "       [ 8525.30007694],\n",
       "       [ 8525.30007694],\n",
       "       [ 8525.30007694],\n",
       "       [ 8525.30007694],\n",
       "       [ 8525.30007694],\n",
       "       [ 8525.30007694],\n",
       "       [ 8525.30007694],\n",
       "       [ 8525.30007694],\n",
       "       [ 8525.30007694],\n",
       "       [ 8525.30007694],\n",
       "       [ 8525.30007694],\n",
       "       [ 8525.30007694],\n",
       "       [ 8525.30007694],\n",
       "       [ 8525.30007694],\n",
       "       [32221.61500274],\n",
       "       [ 8525.30007694],\n",
       "       [ 8525.30007694],\n",
       "       [32221.61500274],\n",
       "       [ 8525.30007694],\n",
       "       [ 8525.30007694],\n",
       "       [ 8525.30007694],\n",
       "       [ 8525.30007694],\n",
       "       [ 8525.30007694],\n",
       "       [ 8525.30007694],\n",
       "       [ 8525.30007694],\n",
       "       [ 8525.30007694],\n",
       "       [32221.61500274],\n",
       "       [ 8525.30007694],\n",
       "       [ 8525.30007694],\n",
       "       [ 8525.30007694],\n",
       "       [32221.61500274],\n",
       "       [ 8525.30007694],\n",
       "       [ 8525.30007694],\n",
       "       [ 8525.30007694],\n",
       "       [ 8525.30007694],\n",
       "       [ 8525.30007694],\n",
       "       [ 8525.30007694],\n",
       "       [ 8525.30007694],\n",
       "       [ 8525.30007694],\n",
       "       [ 8525.30007694],\n",
       "       [32221.61500274],\n",
       "       [ 8525.30007694],\n",
       "       [ 8525.30007694],\n",
       "       [32221.61500274],\n",
       "       [ 8525.30007694],\n",
       "       [ 8525.30007694],\n",
       "       [ 8525.30007694],\n",
       "       [ 8525.30007694],\n",
       "       [ 8525.30007694],\n",
       "       [ 8525.30007694],\n",
       "       [32221.61500274],\n",
       "       [ 8525.30007694],\n",
       "       [ 8525.30007694],\n",
       "       [ 8525.30007694],\n",
       "       [ 8525.30007694],\n",
       "       [ 8525.30007694],\n",
       "       [32221.61500274],\n",
       "       [32221.61500274],\n",
       "       [ 8525.30007694],\n",
       "       [ 8525.30007694],\n",
       "       [ 8525.30007694],\n",
       "       [ 8525.30007694],\n",
       "       [ 8525.30007694],\n",
       "       [ 8525.30007694],\n",
       "       [ 8525.30007694],\n",
       "       [ 8525.30007694],\n",
       "       [ 8525.30007694],\n",
       "       [ 8525.30007694],\n",
       "       [32221.61500274],\n",
       "       [32221.61500274],\n",
       "       [ 8525.30007694],\n",
       "       [32221.61500274],\n",
       "       [ 8525.30007694],\n",
       "       [ 8525.30007694],\n",
       "       [ 8525.30007694],\n",
       "       [ 8525.30007694],\n",
       "       [32221.61500274],\n",
       "       [ 8525.30007694],\n",
       "       [ 8525.30007694],\n",
       "       [ 8525.30007694],\n",
       "       [ 8525.30007694],\n",
       "       [ 8525.30007694],\n",
       "       [ 8525.30007694],\n",
       "       [ 8525.30007694],\n",
       "       [ 8525.30007694],\n",
       "       [ 8525.30007694],\n",
       "       [ 8525.30007694],\n",
       "       [ 8525.30007694],\n",
       "       [32221.61500274],\n",
       "       [ 8525.30007694],\n",
       "       [ 8525.30007694],\n",
       "       [ 8525.30007694],\n",
       "       [ 8525.30007694],\n",
       "       [ 8525.30007694],\n",
       "       [ 8525.30007694],\n",
       "       [ 8525.30007694],\n",
       "       [ 8525.30007694],\n",
       "       [ 8525.30007694],\n",
       "       [32221.61500274],\n",
       "       [ 8525.30007694],\n",
       "       [ 8525.30007694],\n",
       "       [32221.61500274],\n",
       "       [ 8525.30007694],\n",
       "       [32221.61500274],\n",
       "       [32221.61500274],\n",
       "       [ 8525.30007694],\n",
       "       [ 8525.30007694],\n",
       "       [ 8525.30007694],\n",
       "       [ 8525.30007694],\n",
       "       [ 8525.30007694],\n",
       "       [ 8525.30007694],\n",
       "       [ 8525.30007694],\n",
       "       [ 8525.30007694],\n",
       "       [32221.61500274],\n",
       "       [ 8525.30007694],\n",
       "       [ 8525.30007694],\n",
       "       [32221.61500274],\n",
       "       [ 8525.30007694],\n",
       "       [ 8525.30007694],\n",
       "       [ 8525.30007694],\n",
       "       [32221.61500274],\n",
       "       [ 8525.30007694],\n",
       "       [ 8525.30007694],\n",
       "       [ 8525.30007694],\n",
       "       [32221.61500274],\n",
       "       [ 8525.30007694],\n",
       "       [32221.61500274],\n",
       "       [32221.61500274],\n",
       "       [ 8525.30007694],\n",
       "       [32221.61500274],\n",
       "       [ 8525.30007694],\n",
       "       [32221.61500274],\n",
       "       [ 8525.30007694],\n",
       "       [ 8525.30007694],\n",
       "       [ 8525.30007694],\n",
       "       [ 8525.30007694],\n",
       "       [ 8525.30007694],\n",
       "       [ 8525.30007694],\n",
       "       [32221.61500274],\n",
       "       [ 8525.30007694],\n",
       "       [ 8525.30007694],\n",
       "       [ 8525.30007694],\n",
       "       [32221.61500274],\n",
       "       [ 8525.30007694],\n",
       "       [ 8525.30007694],\n",
       "       [ 8525.30007694],\n",
       "       [ 8525.30007694],\n",
       "       [32221.61500274],\n",
       "       [ 8525.30007694],\n",
       "       [ 8525.30007694],\n",
       "       [ 8525.30007694],\n",
       "       [32221.61500274],\n",
       "       [ 8525.30007694],\n",
       "       [32221.61500274],\n",
       "       [32221.61500274],\n",
       "       [ 8525.30007694],\n",
       "       [32221.61500274],\n",
       "       [ 8525.30007694],\n",
       "       [ 8525.30007694],\n",
       "       [ 8525.30007694],\n",
       "       [ 8525.30007694],\n",
       "       [ 8525.30007694],\n",
       "       [ 8525.30007694],\n",
       "       [ 8525.30007694],\n",
       "       [ 8525.30007694],\n",
       "       [32221.61500274],\n",
       "       [32221.61500274],\n",
       "       [ 8525.30007694],\n",
       "       [ 8525.30007694],\n",
       "       [ 8525.30007694],\n",
       "       [ 8525.30007694],\n",
       "       [ 8525.30007694],\n",
       "       [ 8525.30007694],\n",
       "       [ 8525.30007694],\n",
       "       [ 8525.30007694],\n",
       "       [32221.61500274],\n",
       "       [32221.61500274],\n",
       "       [ 8525.30007694],\n",
       "       [32221.61500274],\n",
       "       [ 8525.30007694],\n",
       "       [ 8525.30007694],\n",
       "       [ 8525.30007694],\n",
       "       [ 8525.30007694],\n",
       "       [ 8525.30007694],\n",
       "       [ 8525.30007694],\n",
       "       [ 8525.30007694],\n",
       "       [ 8525.30007694],\n",
       "       [ 8525.30007694],\n",
       "       [ 8525.30007694],\n",
       "       [ 8525.30007694],\n",
       "       [ 8525.30007694],\n",
       "       [32221.61500274],\n",
       "       [32221.61500274],\n",
       "       [32221.61500274],\n",
       "       [ 8525.30007694],\n",
       "       [ 8525.30007694],\n",
       "       [32221.61500274],\n",
       "       [ 8525.30007694],\n",
       "       [32221.61500274]])"
      ]
     },
     "execution_count": 80,
     "metadata": {
      "tags": []
     },
     "output_type": "execute_result"
    }
   ],
   "source": [
    "Y_pred"
   ]
  },
  {
   "cell_type": "code",
   "execution_count": 119,
   "metadata": {
    "colab": {
     "base_uri": "https://localhost:8080/"
    },
    "executionInfo": {
     "elapsed": 944,
     "status": "ok",
     "timestamp": 1612775399231,
     "user": {
      "displayName": "Sagar Shinde",
      "photoUrl": "",
      "userId": "15876155479888133658"
     },
     "user_tz": -330
    },
    "id": "QNPnXaG9wPm0",
    "outputId": "ac7e75f3-3898-46bf-dc51-c9308da46644"
   },
   "outputs": [
    {
     "name": "stdout",
     "output_type": "stream",
     "text": [
      "0.5873875312183238\n"
     ]
    }
   ],
   "source": [
    "#Evaluation with single variable\n",
    "\n",
    "print(simple_linreg.score(pd.DataFrame(X_test.smoker),Y_test))"
   ]
  },
  {
   "cell_type": "code",
   "execution_count": 113,
   "metadata": {
    "executionInfo": {
     "elapsed": 1032,
     "status": "ok",
     "timestamp": 1612775090323,
     "user": {
      "displayName": "Sagar Shinde",
      "photoUrl": "",
      "userId": "15876155479888133658"
     },
     "user_tz": -330
    },
    "id": "MhCcbQqkxdlE"
   },
   "outputs": [],
   "source": [
    "#Include multiple variables in regression\n",
    "\n",
    "linreg = LinearRegression()\n",
    "\n",
    "#Fit or train the model with training data\n",
    "linreg.fit(X_train , Y_train)\n",
    "\n",
    "#Predict for the test set\n",
    "Y_pred_new = linreg.predict(X_test)"
   ]
  },
  {
   "cell_type": "code",
   "execution_count": 116,
   "metadata": {
    "colab": {
     "base_uri": "https://localhost:8080/"
    },
    "executionInfo": {
     "elapsed": 970,
     "status": "ok",
     "timestamp": 1612775322031,
     "user": {
      "displayName": "Sagar Shinde",
      "photoUrl": "",
      "userId": "15876155479888133658"
     },
     "user_tz": -330
    },
    "id": "SFBfVym637fd",
    "outputId": "c2299605-8a5a-41d3-e550-c4fe13aaf37e"
   },
   "outputs": [
    {
     "name": "stdout",
     "output_type": "stream",
     "text": [
      "0.7449415564623687\n"
     ]
    }
   ],
   "source": [
    "#Evaluation with Muiltiple Variables\n",
    "print(linreg.score(X_test,Y_test))"
   ]
  }
 ],
 "metadata": {
  "colab": {
   "authorship_tag": "ABX9TyNDLrGQzojEMl+t7HZLagoU",
   "mount_file_id": "1kkYVYa2B5feiLuz_HaV2rFDkdo_dfOnF",
   "name": "ML_Intro.ipynb",
   "provenance": []
  },
  "kernelspec": {
   "display_name": "Python 3",
   "language": "python",
   "name": "python3"
  },
  "language_info": {
   "codemirror_mode": {
    "name": "ipython",
    "version": 3
   },
   "file_extension": ".py",
   "mimetype": "text/x-python",
   "name": "python",
   "nbconvert_exporter": "python",
   "pygments_lexer": "ipython3",
   "version": "3.8.5"
  }
 },
 "nbformat": 4,
 "nbformat_minor": 1
}
