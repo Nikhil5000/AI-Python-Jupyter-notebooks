{
 "cells": [
  {
   "cell_type": "markdown",
   "metadata": {
    "colab_type": "text",
    "id": "8CbkQnvBVXPv"
   },
   "source": [
    "# Natural Language Processing (NLP) with Python"
   ]
  },
  {
   "cell_type": "code",
   "execution_count": 15,
   "metadata": {
    "colab": {
     "base_uri": "https://localhost:8080/",
     "height": 228
    },
    "colab_type": "code",
    "executionInfo": {
     "elapsed": 486,
     "status": "ok",
     "timestamp": 1595440823754,
     "user": {
      "displayName": "Towards AI Co.",
      "photoUrl": "https://lh3.googleusercontent.com/a-/AOh14GhLbx5D2CftHxCgQKz-ZkqP05DaA5ltUq3OgBSm=s64",
      "userId": "17819054307358915746"
     },
     "user_tz": 240
    },
    "id": "__TNs3DOBiC0",
    "outputId": "4f331b5e-616b-48fc-e9de-fd47b2634916"
   },
   "outputs": [
    {
     "name": "stdout",
     "output_type": "stream",
     "text": [
      "Natural language processing (NLP) is a subfield of linguistics, computer science, and artificial intelligence concerned with the interactions between computers and human language, in particular how to program computers to process and analyze large amounts of natural language data. The result is a computer capable of \"understanding\" the contents of documents, including the contextual nuances of the language within them. The technology can then accurately extract information and insights contained in the documents as well as categorize and organize the documents themselves. \n",
      "\n"
     ]
    }
   ],
   "source": [
    "#Open the text file :\n",
    "text_file = open(\"nlp.txt\")\n",
    "#Read the data :\n",
    "text = text_file.read()\n",
    "#Print the text :\n",
    "print(text)"
   ]
  },
  {
   "cell_type": "markdown",
   "metadata": {},
   "source": [
    "## Exploring Features of NLTK:"
   ]
  },
  {
   "cell_type": "code",
   "execution_count": 16,
   "metadata": {
    "colab": {
     "base_uri": "https://localhost:8080/",
     "height": 832
    },
    "colab_type": "code",
    "executionInfo": {
     "elapsed": 16655,
     "status": "ok",
     "timestamp": 1595436987596,
     "user": {
      "displayName": "Towards AI Co.",
      "photoUrl": "https://lh3.googleusercontent.com/a-/AOh14GhLbx5D2CftHxCgQKz-ZkqP05DaA5ltUq3OgBSm=s64",
      "userId": "17819054307358915746"
     },
     "user_tz": 240
    },
    "id": "kk-wDQ4zdAvF",
    "outputId": "9f1aa82d-01d5-41c2-9097-ad6d18b3a924"
   },
   "outputs": [
    {
     "name": "stderr",
     "output_type": "stream",
     "text": [
      "[nltk_data] Downloading package punkt to /home/sagar/nltk_data...\n",
      "[nltk_data]   Package punkt is already up-to-date!\n"
     ]
    }
   ],
   "source": [
    "#Import required libraries :\n",
    "import nltk\n",
    "nltk.download('punkt')\n",
    "from nltk import sent_tokenize\n",
    "from nltk import word_tokenize"
   ]
  },
  {
   "cell_type": "code",
   "execution_count": 17,
   "metadata": {
    "colab": {
     "base_uri": "https://localhost:8080/",
     "height": 211
    },
    "colab_type": "code",
    "executionInfo": {
     "elapsed": 550,
     "status": "ok",
     "timestamp": 1595440829789,
     "user": {
      "displayName": "Towards AI Co.",
      "photoUrl": "https://lh3.googleusercontent.com/a-/AOh14GhLbx5D2CftHxCgQKz-ZkqP05DaA5ltUq3OgBSm=s64",
      "userId": "17819054307358915746"
     },
     "user_tz": 240
    },
    "id": "nR2CzbHWdKrH",
    "outputId": "dc7b90a8-d359-46dc-e7c0-b3a52478b308"
   },
   "outputs": [
    {
     "name": "stdout",
     "output_type": "stream",
     "text": [
      "3\n",
      "['Natural language processing (NLP) is a subfield of linguistics, computer science, and artificial intelligence concerned with the interactions between computers and human language, in particular how to program computers to process and analyze large amounts of natural language data.', 'The result is a computer capable of \"understanding\" the contents of documents, including the contextual nuances of the language within them.', 'The technology can then accurately extract information and insights contained in the documents as well as categorize and organize the documents themselves.']\n"
     ]
    }
   ],
   "source": [
    "# Sentence tokenization\n",
    "sentences = sent_tokenize(text)\n",
    "print (len(sentences))\n",
    "print(sentences)"
   ]
  },
  {
   "cell_type": "code",
   "execution_count": 18,
   "metadata": {
    "colab": {
     "base_uri": "https://localhost:8080/",
     "height": 107
    },
    "colab_type": "code",
    "executionInfo": {
     "elapsed": 527,
     "status": "ok",
     "timestamp": 1595440834779,
     "user": {
      "displayName": "Towards AI Co.",
      "photoUrl": "https://lh3.googleusercontent.com/a-/AOh14GhLbx5D2CftHxCgQKz-ZkqP05DaA5ltUq3OgBSm=s64",
      "userId": "17819054307358915746"
     },
     "user_tz": 240
    },
    "id": "pUPacHqcdqc1",
    "outputId": "0e4da7b8-9a93-4c8c-ef5c-a8d24baaa5c4"
   },
   "outputs": [
    {
     "name": "stdout",
     "output_type": "stream",
     "text": [
      "93\n",
      "['Natural', 'language', 'processing', '(', 'NLP', ')', 'is', 'a', 'subfield', 'of', 'linguistics', ',', 'computer', 'science', ',', 'and', 'artificial', 'intelligence', 'concerned', 'with', 'the', 'interactions', 'between', 'computers', 'and', 'human', 'language', ',', 'in', 'particular', 'how', 'to', 'program', 'computers', 'to', 'process', 'and', 'analyze', 'large', 'amounts', 'of', 'natural', 'language', 'data', '.', 'The', 'result', 'is', 'a', 'computer', 'capable', 'of', '``', 'understanding', \"''\", 'the', 'contents', 'of', 'documents', ',', 'including', 'the', 'contextual', 'nuances', 'of', 'the', 'language', 'within', 'them', '.', 'The', 'technology', 'can', 'then', 'accurately', 'extract', 'information', 'and', 'insights', 'contained', 'in', 'the', 'documents', 'as', 'well', 'as', 'categorize', 'and', 'organize', 'the', 'documents', 'themselves', '.']\n"
     ]
    }
   ],
   "source": [
    "#Word tokenization\n",
    "words = word_tokenize(text)\n",
    "print(len(words))\n",
    "print(words)"
   ]
  },
  {
   "cell_type": "code",
   "execution_count": 19,
   "metadata": {
    "colab": {
     "base_uri": "https://localhost:8080/",
     "height": 191
    },
    "colab_type": "code",
    "executionInfo": {
     "elapsed": 741,
     "status": "ok",
     "timestamp": 1595440837721,
     "user": {
      "displayName": "Towards AI Co.",
      "photoUrl": "https://lh3.googleusercontent.com/a-/AOh14GhLbx5D2CftHxCgQKz-ZkqP05DaA5ltUq3OgBSm=s64",
      "userId": "17819054307358915746"
     },
     "user_tz": 240
    },
    "id": "JsBVhkCFdsuU",
    "outputId": "d342ce56-1df7-41b4-f42b-bc1b35d06734"
   },
   "outputs": [
    {
     "data": {
      "text/plain": [
       "[('the', 6), ('of', 5), ('and', 5), ('language', 4), (',', 4)]"
      ]
     },
     "execution_count": 19,
     "metadata": {},
     "output_type": "execute_result"
    }
   ],
   "source": [
    "# The FreqDist class is used to encode “frequency distributions”.\n",
    "# FreqDist count the number of times that each outcome of an experiment occurs.\n",
    "from nltk.probability import FreqDist\n",
    "fdist = FreqDist(words)\n",
    "fdist.most_common(5)                  #Print 5 most common words"
   ]
  },
  {
   "cell_type": "code",
   "execution_count": 20,
   "metadata": {
    "colab": {
     "base_uri": "https://localhost:8080/",
     "height": 299
    },
    "colab_type": "code",
    "executionInfo": {
     "elapsed": 599,
     "status": "ok",
     "timestamp": 1595440840362,
     "user": {
      "displayName": "Towards AI Co.",
      "photoUrl": "https://lh3.googleusercontent.com/a-/AOh14GhLbx5D2CftHxCgQKz-ZkqP05DaA5ltUq3OgBSm=s64",
      "userId": "17819054307358915746"
     },
     "user_tz": 240
    },
    "id": "LtNIRQvTduKt",
    "outputId": "19a6b8ce-8303-4a9b-deec-5b6a89d1c7ff"
   },
   "outputs": [
    {
     "data": {
      "image/png": "[encoded data removed]",
      "text/plain": [
       "<Figure size 432x288 with 1 Axes>"
      ]
     },
     "metadata": {
      "needs_background": "light"
     },
     "output_type": "display_data"
    },
    {
     "data": {
      "text/plain": [
       "<AxesSubplot:xlabel='Samples', ylabel='Counts'>"
      ]
     },
     "execution_count": 20,
     "metadata": {},
     "output_type": "execute_result"
    }
   ],
   "source": [
    "fdist.plot(5)                         #Plot the graph for fdist :"
   ]
  },
  {
   "cell_type": "code",
   "execution_count": 21,
   "metadata": {
    "colab": {
     "base_uri": "https://localhost:8080/",
     "height": 107
    },
    "colab_type": "code",
    "executionInfo": {
     "elapsed": 519,
     "status": "ok",
     "timestamp": 1595440843099,
     "user": {
      "displayName": "Towards AI Co.",
      "photoUrl": "https://lh3.googleusercontent.com/a-/AOh14GhLbx5D2CftHxCgQKz-ZkqP05DaA5ltUq3OgBSm=s64",
      "userId": "17819054307358915746"
     },
     "user_tz": 240
    },
    "id": "tUPyjVHrdveU",
    "outputId": "8161a23f-2ae5-4081-b123-afe0f1bcaa6b"
   },
   "outputs": [
    {
     "name": "stdout",
     "output_type": "stream",
     "text": [
      "82\n",
      "['natural', 'language', 'processing', 'nlp', 'is', 'a', 'subfield', 'of', 'linguistics', 'computer', 'science', 'and', 'artificial', 'intelligence', 'concerned', 'with', 'the', 'interactions', 'between', 'computers', 'and', 'human', 'language', 'in', 'particular', 'how', 'to', 'program', 'computers', 'to', 'process', 'and', 'analyze', 'large', 'amounts', 'of', 'natural', 'language', 'data', 'the', 'result', 'is', 'a', 'computer', 'capable', 'of', 'understanding', 'the', 'contents', 'of', 'documents', 'including', 'the', 'contextual', 'nuances', 'of', 'the', 'language', 'within', 'them', 'the', 'technology', 'can', 'then', 'accurately', 'extract', 'information', 'and', 'insights', 'contained', 'in', 'the', 'documents', 'as', 'well', 'as', 'categorize', 'and', 'organize', 'the', 'documents', 'themselves']\n"
     ]
    }
   ],
   "source": [
    "#Removing punctuation marks :\n",
    "words_no_punc = []\n",
    "for w in words:\n",
    "    if w.isalpha():\n",
    "        words_no_punc.append(w.lower()) #Append words with alphabet only. also changing the case to lower\n",
    "print (len(words_no_punc))              #Length\n",
    "print (words_no_punc)                   #Print the words without punctution marks"
   ]
  },
  {
   "cell_type": "code",
   "execution_count": 22,
   "metadata": {
    "colab": {
     "base_uri": "https://localhost:8080/",
     "height": 191
    },
    "colab_type": "code",
    "executionInfo": {
     "elapsed": 520,
     "status": "ok",
     "timestamp": 1595440845417,
     "user": {
      "displayName": "Towards AI Co.",
      "photoUrl": "https://lh3.googleusercontent.com/a-/AOh14GhLbx5D2CftHxCgQKz-ZkqP05DaA5ltUq3OgBSm=s64",
      "userId": "17819054307358915746"
     },
     "user_tz": 240
    },
    "id": "b3SqTkNedxYM",
    "outputId": "8610eecb-b8c9-4803-c97c-44c46281a172"
   },
   "outputs": [
    {
     "data": {
      "text/plain": [
       "[('the', 8), ('of', 5), ('and', 5), ('language', 4), ('documents', 3)]"
      ]
     },
     "execution_count": 22,
     "metadata": {},
     "output_type": "execute_result"
    }
   ],
   "source": [
    "fdist = FreqDist(words_no_punc)\n",
    "fdist.most_common(5)                     #Print 5 most common words"
   ]
  },
  {
   "cell_type": "code",
   "execution_count": 23,
   "metadata": {
    "colab": {
     "base_uri": "https://localhost:8080/",
     "height": 299
    },
    "colab_type": "code",
    "executionInfo": {
     "elapsed": 717,
     "status": "ok",
     "timestamp": 1595440847652,
     "user": {
      "displayName": "Towards AI Co.",
      "photoUrl": "https://lh3.googleusercontent.com/a-/AOh14GhLbx5D2CftHxCgQKz-ZkqP05DaA5ltUq3OgBSm=s64",
      "userId": "17819054307358915746"
     },
     "user_tz": 240
    },
    "id": "kotl9nuTdyge",
    "outputId": "2c72c256-1ba8-4c5c-88f3-a89444e680d4"
   },
   "outputs": [
    {
     "data": {
      "image/png": "[encoded data removed]",
      "text/plain": [
       "<Figure size 432x288 with 1 Axes>"
      ]
     },
     "metadata": {
      "needs_background": "light"
     },
     "output_type": "display_data"
    },
    {
     "data": {
      "text/plain": [
       "<AxesSubplot:xlabel='Samples', ylabel='Counts'>"
      ]
     },
     "execution_count": 23,
     "metadata": {},
     "output_type": "execute_result"
    }
   ],
   "source": [
    "fdist.plot(5)                            #Plot the most common words on grpah"
   ]
  },
  {
   "cell_type": "code",
   "execution_count": 24,
   "metadata": {
    "colab": {
     "base_uri": "https://localhost:8080/",
     "height": 55
    },
    "colab_type": "code",
    "executionInfo": {
     "elapsed": 483,
     "status": "ok",
     "timestamp": 1595440851554,
     "user": {
      "displayName": "Towards AI Co.",
      "photoUrl": "https://lh3.googleusercontent.com/a-/AOh14GhLbx5D2CftHxCgQKz-ZkqP05DaA5ltUq3OgBSm=s64",
      "userId": "17819054307358915746"
     },
     "user_tz": 240
    },
    "id": "443sa0zKdzpd",
    "outputId": "f99f0993-39bb-47fb-b94d-4cfcec5e2f8e"
   },
   "outputs": [
    {
     "name": "stdout",
     "output_type": "stream",
     "text": [
      "['i', 'me', 'my', 'myself', 'we', 'our', 'ours', 'ourselves', 'you', \"you're\", \"you've\", \"you'll\", \"you'd\", 'your', 'yours', 'yourself', 'yourselves', 'he', 'him', 'his', 'himself', 'she', \"she's\", 'her', 'hers', 'herself', 'it', \"it's\", 'its', 'itself', 'they', 'them', 'their', 'theirs', 'themselves', 'what', 'which', 'who', 'whom', 'this', 'that', \"that'll\", 'these', 'those', 'am', 'is', 'are', 'was', 'were', 'be', 'been', 'being', 'have', 'has', 'had', 'having', 'do', 'does', 'did', 'doing', 'a', 'an', 'the', 'and', 'but', 'if', 'or', 'because', 'as', 'until', 'while', 'of', 'at', 'by', 'for', 'with', 'about', 'against', 'between', 'into', 'through', 'during', 'before', 'after', 'above', 'below', 'to', 'from', 'up', 'down', 'in', 'out', 'on', 'off', 'over', 'under', 'again', 'further', 'then', 'once', 'here', 'there', 'when', 'where', 'why', 'how', 'all', 'any', 'both', 'each', 'few', 'more', 'most', 'other', 'some', 'such', 'no', 'nor', 'not', 'only', 'own', 'same', 'so', 'than', 'too', 'very', 's', 't', 'can', 'will', 'just', 'don', \"don't\", 'should', \"should've\", 'now', 'd', 'll', 'm', 'o', 're', 've', 'y', 'ain', 'aren', \"aren't\", 'couldn', \"couldn't\", 'didn', \"didn't\", 'doesn', \"doesn't\", 'hadn', \"hadn't\", 'hasn', \"hasn't\", 'haven', \"haven't\", 'isn', \"isn't\", 'ma', 'mightn', \"mightn't\", 'mustn', \"mustn't\", 'needn', \"needn't\", 'shan', \"shan't\", 'shouldn', \"shouldn't\", 'wasn', \"wasn't\", 'weren', \"weren't\", 'won', \"won't\", 'wouldn', \"wouldn't\"]\n"
     ]
    },
    {
     "name": "stderr",
     "output_type": "stream",
     "text": [
      "[nltk_data] Downloading package stopwords to /home/sagar/nltk_data...\n",
      "[nltk_data]   Package stopwords is already up-to-date!\n"
     ]
    }
   ],
   "source": [
    "from nltk.corpus import stopwords\n",
    "nltk.download('stopwords')\n",
    "#List of stopwords\n",
    "stopwords = stopwords.words(\"english\")\n",
    "print(stopwords)"
   ]
  },
  {
   "cell_type": "code",
   "execution_count": 25,
   "metadata": {
    "colab": {
     "base_uri": "https://localhost:8080/",
     "height": 107
    },
    "colab_type": "code",
    "executionInfo": {
     "elapsed": 581,
     "status": "ok",
     "timestamp": 1595440862131,
     "user": {
      "displayName": "Towards AI Co.",
      "photoUrl": "https://lh3.googleusercontent.com/a-/AOh14GhLbx5D2CftHxCgQKz-ZkqP05DaA5ltUq3OgBSm=s64",
      "userId": "17819054307358915746"
     },
     "user_tz": 240
    },
    "id": "JaRf2eeYd1Zt",
    "outputId": "0f695898-ea89-49c1-cf01-71da56ec76dc"
   },
   "outputs": [
    {
     "name": "stdout",
     "output_type": "stream",
     "text": [
      "47\n",
      "['natural', 'language', 'processing', 'nlp', 'subfield', 'linguistics', 'computer', 'science', 'artificial', 'intelligence', 'concerned', 'interactions', 'computers', 'human', 'language', 'particular', 'program', 'computers', 'process', 'analyze', 'large', 'amounts', 'natural', 'language', 'data', 'result', 'computer', 'capable', 'understanding', 'contents', 'documents', 'including', 'contextual', 'nuances', 'language', 'within', 'technology', 'accurately', 'extract', 'information', 'insights', 'contained', 'documents', 'well', 'categorize', 'organize', 'documents']\n"
     ]
    }
   ],
   "source": [
    "# Remove Stopwords\n",
    "clean_words = []\n",
    "for w in words_no_punc:\n",
    "    if w not in stopwords:\n",
    "        clean_words.append(w)       \n",
    "print(len(clean_words))\n",
    "print(clean_words)"
   ]
  },
  {
   "cell_type": "code",
   "execution_count": 26,
   "metadata": {
    "colab": {
     "base_uri": "https://localhost:8080/",
     "height": 191
    },
    "colab_type": "code",
    "executionInfo": {
     "elapsed": 581,
     "status": "ok",
     "timestamp": 1595440864153,
     "user": {
      "displayName": "Towards AI Co.",
      "photoUrl": "https://lh3.googleusercontent.com/a-/AOh14GhLbx5D2CftHxCgQKz-ZkqP05DaA5ltUq3OgBSm=s64",
      "userId": "17819054307358915746"
     },
     "user_tz": 240
    },
    "id": "GX7Z3fmEd2hF",
    "outputId": "a586c44b-673d-4d15-e833-efa8ae20de03"
   },
   "outputs": [
    {
     "data": {
      "text/plain": [
       "[('language', 4),\n",
       " ('documents', 3),\n",
       " ('natural', 2),\n",
       " ('computer', 2),\n",
       " ('computers', 2)]"
      ]
     },
     "execution_count": 26,
     "metadata": {},
     "output_type": "execute_result"
    }
   ],
   "source": [
    "#Frequency distribution :\n",
    "fdist = FreqDist(clean_words)\n",
    "fdist.most_common(5)                      #Print 5 most common words"
   ]
  },
  {
   "cell_type": "code",
   "execution_count": 27,
   "metadata": {
    "colab": {
     "base_uri": "https://localhost:8080/",
     "height": 307
    },
    "colab_type": "code",
    "executionInfo": {
     "elapsed": 897,
     "status": "ok",
     "timestamp": 1595440948566,
     "user": {
      "displayName": "Towards AI Co.",
      "photoUrl": "https://lh3.googleusercontent.com/a-/AOh14GhLbx5D2CftHxCgQKz-ZkqP05DaA5ltUq3OgBSm=s64",
      "userId": "17819054307358915746"
     },
     "user_tz": 240
    },
    "id": "_9bes0f_d3dv",
    "outputId": "2f84094e-a49e-41ba-d826-8bbda54810d1"
   },
   "outputs": [
    {
     "data": {
      "image/png": "[encoded data removed]",
      "text/plain": [
       "<Figure size 432x288 with 1 Axes>"
      ]
     },
     "metadata": {
      "needs_background": "light"
     },
     "output_type": "display_data"
    },
    {
     "data": {
      "text/plain": [
       "<AxesSubplot:xlabel='Samples', ylabel='Counts'>"
      ]
     },
     "execution_count": 27,
     "metadata": {},
     "output_type": "execute_result"
    }
   ],
   "source": [
    "fdist.plot(5)                             #Plot the most common words on grpah:"
   ]
  },
  {
   "cell_type": "markdown",
   "metadata": {},
   "source": [
    "## Word Cloud\n",
    "Word cloud is a technique for visualising frequent words in a text where the size of the words represents their frequency."
   ]
  },
  {
   "cell_type": "code",
   "execution_count": 29,
   "metadata": {
    "colab": {
     "base_uri": "https://localhost:8080/",
     "height": 366
    },
    "colab_type": "code",
    "executionInfo": {
     "elapsed": 1449,
     "status": "ok",
     "timestamp": 1595440952483,
     "user": {
      "displayName": "Towards AI Co.",
      "photoUrl": "https://lh3.googleusercontent.com/a-/AOh14GhLbx5D2CftHxCgQKz-ZkqP05DaA5ltUq3OgBSm=s64",
      "userId": "17819054307358915746"
     },
     "user_tz": 240
    },
    "id": "WGptyQEDd44c",
    "outputId": "ef2cd46a-5102-4ca3-c4a9-e0bd522734d5"
   },
   "outputs": [
    {
     "data": {
      "image/png": "[encoded data removed]",
      "text/plain": [
       "<Figure size 864x864 with 1 Axes>"
      ]
     },
     "metadata": {
      "needs_background": "light"
     },
     "output_type": "display_data"
    }
   ],
   "source": [
    "#Library to form wordcloud :\n",
    "from wordcloud import WordCloud\n",
    "#Library to plot the wordcloud :\n",
    "import matplotlib.pyplot as plt\n",
    "#Generating the wordcloud :\n",
    "wordcloud = WordCloud().generate(text)\n",
    "#Plot the wordcloud :\n",
    "plt.figure(figsize = (12, 12)) \n",
    "plt.imshow(wordcloud) \n",
    "#To remove the axis value :\n",
    "plt.axis(\"off\") \n",
    "plt.show()"
   ]
  },
  {
   "cell_type": "markdown",
   "metadata": {},
   "source": [
    "## Stemming\n",
    "It is a process of reducing inflected (or sometimes derived) words to their word stem, base or root form. We use Stemming to normalize words."
   ]
  },
  {
   "cell_type": "code",
   "execution_count": 30,
   "metadata": {
    "colab": {
     "base_uri": "https://localhost:8080/",
     "height": 87
    },
    "colab_type": "code",
    "executionInfo": {
     "elapsed": 507,
     "status": "ok",
     "timestamp": 1595441010149,
     "user": {
      "displayName": "Towards AI Co.",
      "photoUrl": "https://lh3.googleusercontent.com/a-/AOh14GhLbx5D2CftHxCgQKz-ZkqP05DaA5ltUq3OgBSm=s64",
      "userId": "17819054307358915746"
     },
     "user_tz": 240
    },
    "id": "0EXIjA7vd8EE",
    "outputId": "639a8051-23c4-4ce6-f759-c3677155ed72"
   },
   "outputs": [
    {
     "name": "stdout",
     "output_type": "stream",
     "text": [
      "carri\n",
      "carri\n",
      "carri\n"
     ]
    }
   ],
   "source": [
    "#Stemming Example :\n",
    "#Import stemming library :\n",
    "from nltk.stem import PorterStemmer\n",
    "porter = PorterStemmer()\n",
    "#Word-list for stemming :\n",
    "word_list = [\"Carry\",\"Carrying\",\"Carried\"]\n",
    "for w in word_list:\n",
    "    print(porter.stem(w))"
   ]
  },
  {
   "cell_type": "code",
   "execution_count": 31,
   "metadata": {
    "colab": {
     "base_uri": "https://localhost:8080/",
     "height": 87
    },
    "colab_type": "code",
    "executionInfo": {
     "elapsed": 640,
     "status": "ok",
     "timestamp": 1595441012729,
     "user": {
      "displayName": "Towards AI Co.",
      "photoUrl": "https://lh3.googleusercontent.com/a-/AOh14GhLbx5D2CftHxCgQKz-ZkqP05DaA5ltUq3OgBSm=s64",
      "userId": "17819054307358915746"
     },
     "user_tz": 240
    },
    "id": "rdMUAzybd9eW",
    "outputId": "c98dd398-7e48-441b-c87c-bf52bfa21be9"
   },
   "outputs": [
    {
     "name": "stdout",
     "output_type": "stream",
     "text": [
      "carri\n",
      "eat\n",
      "decreas\n",
      "read\n"
     ]
    }
   ],
   "source": [
    "#Stemming Example :\n",
    "#Import stemming library :\n",
    "from nltk.stem import PorterStemmer\n",
    "porter = PorterStemmer()\n",
    "#Word-list for stemming :\n",
    "word_list = [\"carry\",\"eating\",\"decreases\",\"reading\"]\n",
    "for w in word_list:\n",
    "    print(porter.stem(w))"
   ]
  },
  {
   "cell_type": "code",
   "execution_count": 32,
   "metadata": {
    "colab": {
     "base_uri": "https://localhost:8080/",
     "height": 87
    },
    "colab_type": "code",
    "executionInfo": {
     "elapsed": 532,
     "status": "ok",
     "timestamp": 1595441014345,
     "user": {
      "displayName": "Towards AI Co.",
      "photoUrl": "https://lh3.googleusercontent.com/a-/AOh14GhLbx5D2CftHxCgQKz-ZkqP05DaA5ltUq3OgBSm=s64",
      "userId": "17819054307358915746"
     },
     "user_tz": 240
    },
    "id": "YUDA2PJ5d_T8",
    "outputId": "7f7ac67b-f653-4e8d-e509-88d98b6c7576"
   },
   "outputs": [
    {
     "data": {
      "text/plain": [
       "('arabic',\n",
       " 'danish',\n",
       " 'dutch',\n",
       " 'english',\n",
       " 'finnish',\n",
       " 'french',\n",
       " 'german',\n",
       " 'hungarian',\n",
       " 'italian',\n",
       " 'norwegian',\n",
       " 'porter',\n",
       " 'portuguese',\n",
       " 'romanian',\n",
       " 'russian',\n",
       " 'spanish',\n",
       " 'swedish')"
      ]
     },
     "execution_count": 32,
     "metadata": {},
     "output_type": "execute_result"
    }
   ],
   "source": [
    "#Stemming Example :\n",
    "#Import stemming library :\n",
    "from nltk.stem import SnowballStemmer\n",
    "#Print languages supported :\n",
    "SnowballStemmer.languages"
   ]
  },
  {
   "cell_type": "code",
   "execution_count": 33,
   "metadata": {
    "colab": {
     "base_uri": "https://localhost:8080/",
     "height": 295
    },
    "colab_type": "code",
    "executionInfo": {
     "elapsed": 537,
     "status": "ok",
     "timestamp": 1595441016511,
     "user": {
      "displayName": "Towards AI Co.",
      "photoUrl": "https://lh3.googleusercontent.com/a-/AOh14GhLbx5D2CftHxCgQKz-ZkqP05DaA5ltUq3OgBSm=s64",
      "userId": "17819054307358915746"
     },
     "user_tz": 240
    },
    "id": "CSPFh_QGeAxQ",
    "outputId": "7fc99057-d0ab-4a10-c3c1-c10f2a6dcc62"
   },
   "outputs": [
    {
     "name": "stdout",
     "output_type": "stream",
     "text": [
      "carri\n",
      "carri\n",
      "carri\n"
     ]
    }
   ],
   "source": [
    "#Stemming Example :\n",
    "#Import stemming library :\n",
    "from nltk.stem import SnowballStemmer\n",
    "snowball = SnowballStemmer(\"english\")\n",
    "#Word-list for stemming :\n",
    "word_list = [\"carry\",\"carrying\",\"carried\"]\n",
    "for w in word_list:\n",
    "    print(snowball.stem(w))"
   ]
  },
  {
   "cell_type": "markdown",
   "metadata": {},
   "source": [
    "## Lemmatization\n",
    "Lemmatization in linguistics is the process of grouping together the inflected forms of a word so they can be analysed as a single item, identified by the word's lemma, or dictionary form"
   ]
  },
  {
   "cell_type": "code",
   "execution_count": 35,
   "metadata": {
    "colab": {
     "base_uri": "https://localhost:8080/",
     "height": 87
    },
    "colab_type": "code",
    "executionInfo": {
     "elapsed": 2033,
     "status": "ok",
     "timestamp": 1595441020732,
     "user": {
      "displayName": "Towards AI Co.",
      "photoUrl": "https://lh3.googleusercontent.com/a-/AOh14GhLbx5D2CftHxCgQKz-ZkqP05DaA5ltUq3OgBSm=s64",
      "userId": "17819054307358915746"
     },
     "user_tz": 240
    },
    "id": "mwnV6hy3eCKs",
    "outputId": "2bcb8dc9-d134-44f7-e439-c58c94cc8376"
   },
   "outputs": [
    {
     "name": "stderr",
     "output_type": "stream",
     "text": [
      "[nltk_data] Downloading package wordnet to /home/sagar/nltk_data...\n",
      "[nltk_data]   Unzipping corpora/wordnet.zip.\n"
     ]
    },
    {
     "name": "stdout",
     "output_type": "stream",
     "text": [
      "carry\n",
      "carry\n",
      "carry\n"
     ]
    }
   ],
   "source": [
    "from nltk import WordNetLemmatizer\n",
    "nltk.download('wordnet')\n",
    "\n",
    "lemma = WordNetLemmatizer()\n",
    "word_list = [\"carry\",\"carrying\",\"carried\"]\n",
    "for w in word_list:\n",
    "    print(lemma.lemmatize(w ,pos=\"v\"))"
   ]
  },
  {
   "cell_type": "code",
   "execution_count": 36,
   "metadata": {
    "colab": {
     "base_uri": "https://localhost:8080/",
     "height": 87
    },
    "colab_type": "code",
    "executionInfo": {
     "elapsed": 593,
     "status": "ok",
     "timestamp": 1595441033453,
     "user": {
      "displayName": "Towards AI Co.",
      "photoUrl": "https://lh3.googleusercontent.com/a-/AOh14GhLbx5D2CftHxCgQKz-ZkqP05DaA5ltUq3OgBSm=s64",
      "userId": "17819054307358915746"
     },
     "user_tz": 240
    },
    "id": "AVZ8q1a2eIm8",
    "outputId": "6619bb5d-0e5e-436f-d98c-96051fa84efe"
   },
   "outputs": [
    {
     "name": "stdout",
     "output_type": "stream",
     "text": [
      "read\n",
      "reading\n",
      "reading\n",
      "reading\n"
     ]
    }
   ],
   "source": [
    "from nltk.stem import WordNetLemmatizer\n",
    "# pos: part of speeach \n",
    "lemmatizer = WordNetLemmatizer()\n",
    "print(lemmatizer.lemmatize('reading', pos=\"v\")) #Verb\n",
    "print(lemmatizer.lemmatize('reading', pos=\"n\")) #Noun\n",
    "print(lemmatizer.lemmatize('reading', pos=\"a\")) #Adjective\n",
    "print(lemmatizer.lemmatize('reading', pos=\"r\")) #Adverb"
   ]
  },
  {
   "cell_type": "markdown",
   "metadata": {},
   "source": [
    "## Part-of-Speech (PoS) tagging"
   ]
  },
  {
   "cell_type": "code",
   "execution_count": 37,
   "metadata": {},
   "outputs": [
    {
     "name": "stdout",
     "output_type": "stream",
     "text": [
      "\n",
      "    Use NLTK's currently recommended part of speech tagger to\n",
      "    tag the given list of tokens.\n",
      "\n",
      "        >>> from nltk.tag import pos_tag\n",
      "        >>> from nltk.tokenize import word_tokenize\n",
      "        >>> pos_tag(word_tokenize(\"John's big idea isn't all that bad.\"))\n",
      "        [('John', 'NNP'), (\"'s\", 'POS'), ('big', 'JJ'), ('idea', 'NN'), ('is', 'VBZ'),\n",
      "        (\"n't\", 'RB'), ('all', 'PDT'), ('that', 'DT'), ('bad', 'JJ'), ('.', '.')]\n",
      "        >>> pos_tag(word_tokenize(\"John's big idea isn't all that bad.\"), tagset='universal')\n",
      "        [('John', 'NOUN'), (\"'s\", 'PRT'), ('big', 'ADJ'), ('idea', 'NOUN'), ('is', 'VERB'),\n",
      "        (\"n't\", 'ADV'), ('all', 'DET'), ('that', 'DET'), ('bad', 'ADJ'), ('.', '.')]\n",
      "\n",
      "    NB. Use `pos_tag_sents()` for efficient tagging of more than one sentence.\n",
      "\n",
      "    :param tokens: Sequence of tokens to be tagged\n",
      "    :type tokens: list(str)\n",
      "    :param tagset: the tagset to be used, e.g. universal, wsj, brown\n",
      "    :type tagset: str\n",
      "    :param lang: the ISO 639 code of the language, e.g. 'eng' for English, 'rus' for Russian\n",
      "    :type lang: str\n",
      "    :return: The tagged tokens\n",
      "    :rtype: list(tuple(str, str))\n",
      "    \n"
     ]
    }
   ],
   "source": [
    "# print(nltk.pos_tag.__doc__)"
   ]
  },
  {
   "cell_type": "code",
   "execution_count": 39,
   "metadata": {
    "colab": {
     "base_uri": "https://localhost:8080/",
     "height": 191
    },
    "colab_type": "code",
    "executionInfo": {
     "elapsed": 510,
     "status": "ok",
     "timestamp": 1595441038442,
     "user": {
      "displayName": "Towards AI Co.",
      "photoUrl": "https://lh3.googleusercontent.com/a-/AOh14GhLbx5D2CftHxCgQKz-ZkqP05DaA5ltUq3OgBSm=s64",
      "userId": "17819054307358915746"
     },
     "user_tz": 240
    },
    "id": "i3DEiFVPeMu0",
    "outputId": "0c2e667c-feff-40c3-b22d-5c4f1299f60d"
   },
   "outputs": [
    {
     "name": "stderr",
     "output_type": "stream",
     "text": [
      "[nltk_data] Downloading package averaged_perceptron_tagger to\n",
      "[nltk_data]     /home/sagar/nltk_data...\n",
      "[nltk_data]   Unzipping taggers/averaged_perceptron_tagger.zip.\n"
     ]
    },
    {
     "data": {
      "text/plain": [
       "[('Almost', 'RB'),\n",
       " ('every', 'DT'),\n",
       " ('sentence', 'NN'),\n",
       " ('contains', 'VBZ'),\n",
       " ('at', 'IN'),\n",
       " ('least', 'JJS'),\n",
       " ('one', 'CD'),\n",
       " ('noun', 'JJ'),\n",
       " ('phrase', 'NN'),\n",
       " ('.', '.')]"
      ]
     },
     "execution_count": 39,
     "metadata": {},
     "output_type": "execute_result"
    }
   ],
   "source": [
    "#PoS tagging example :\n",
    "\n",
    "sentence = \"Almost every sentence contains at least one noun phrase.\"\n",
    "nltk.download('averaged_perceptron_tagger')\n",
    "\n",
    "#Tokenizing words :\n",
    "tokenized_words = word_tokenize(sentence)\n",
    "\n",
    "for words in tokenized_words:\n",
    "    tagged_words = nltk.pos_tag(tokenized_words)\n",
    "tagged_words"
   ]
  },
  {
   "cell_type": "markdown",
   "metadata": {},
   "source": [
    "## WordNet"
   ]
  },
  {
   "cell_type": "code",
   "execution_count": 40,
   "metadata": {
    "colab": {
     "base_uri": "https://localhost:8080/",
     "height": 87
    },
    "colab_type": "code",
    "executionInfo": {
     "elapsed": 469,
     "status": "ok",
     "timestamp": 1595441050256,
     "user": {
      "displayName": "Towards AI Co.",
      "photoUrl": "https://lh3.googleusercontent.com/a-/AOh14GhLbx5D2CftHxCgQKz-ZkqP05DaA5ltUq3OgBSm=s64",
      "userId": "17819054307358915746"
     },
     "user_tz": 240
    },
    "id": "g1S1GB4SeVed",
    "outputId": "95147bb9-5be0-4080-cefc-1fcff5081c33"
   },
   "outputs": [
    {
     "name": "stdout",
     "output_type": "stream",
     "text": [
      "Synset('fun.n.01')\n",
      "Synset('fun.n.02')\n",
      "Synset('fun.n.03')\n",
      "Synset('playfulness.n.02')\n"
     ]
    }
   ],
   "source": [
    "#Import wordnet :\n",
    "# nltk.download('wordnet')\n",
    "from nltk.corpus import wordnet\n",
    "\n",
    "for words in wordnet.synsets(\"Fun\"): \n",
    "    print(words)      "
   ]
  },
  {
   "cell_type": "code",
   "execution_count": 41,
   "metadata": {
    "colab": {
     "base_uri": "https://localhost:8080/",
     "height": 520
    },
    "colab_type": "code",
    "executionInfo": {
     "elapsed": 556,
     "status": "ok",
     "timestamp": 1595441059228,
     "user": {
      "displayName": "Towards AI Co.",
      "photoUrl": "https://lh3.googleusercontent.com/a-/AOh14GhLbx5D2CftHxCgQKz-ZkqP05DaA5ltUq3OgBSm=s64",
      "userId": "17819054307358915746"
     },
     "user_tz": 240
    },
    "id": "-Hl5yXEqeXOc",
    "outputId": "c901794f-18fa-4e85-ca71-7330a67cf964"
   },
   "outputs": [
    {
     "name": "stdout",
     "output_type": "stream",
     "text": [
      "fun.n.01\n",
      "activities that are enjoyable or amusing\n",
      "['I do it for the fun of it', 'he is fun to have around']\n",
      "Lemma('fun.n.01.fun')\n",
      "Lemma('fun.n.01.merriment')\n",
      "Lemma('fun.n.01.playfulness')\n",
      "....\n",
      "fun.n.02\n",
      "verbal wit or mockery (often at another's expense but not to be taken seriously)\n",
      "['he became a figure of fun', 'he said it in sport']\n",
      "Lemma('fun.n.02.fun')\n",
      "Lemma('fun.n.02.play')\n",
      "Lemma('fun.n.02.sport')\n",
      "....\n",
      "fun.n.03\n",
      "violent and excited activity\n",
      "['she asked for money and then the fun began', 'they began to fight like fun']\n",
      "Lemma('fun.n.03.fun')\n",
      "....\n",
      "playfulness.n.02\n",
      "a disposition to find (or make) causes for amusement\n",
      "['her playfulness surprised me', 'he was fun to be with']\n",
      "Lemma('playfulness.n.02.playfulness')\n",
      "Lemma('playfulness.n.02.fun')\n",
      "....\n"
     ]
    }
   ],
   "source": [
    "#Word meaning with definitions :\n",
    "#LEMMA : a heading indicating the subject or argument of a literary composition or annotation.\n",
    "for words in wordnet.synsets(\"Fun\"): \n",
    "    print(words.name())\n",
    "    print(words.definition())\n",
    "    print(words.examples())\n",
    "    for lemma in words.lemmas():   #Corresponding Synonyms\n",
    "        print(lemma)\n",
    "    print(\"....\")"
   ]
  },
  {
   "cell_type": "code",
   "execution_count": 42,
   "metadata": {
    "colab": {
     "base_uri": "https://localhost:8080/",
     "height": 173
    },
    "colab_type": "code",
    "executionInfo": {
     "elapsed": 652,
     "status": "ok",
     "timestamp": 1595441072032,
     "user": {
      "displayName": "Towards AI Co.",
      "photoUrl": "https://lh3.googleusercontent.com/a-/AOh14GhLbx5D2CftHxCgQKz-ZkqP05DaA5ltUq3OgBSm=s64",
      "userId": "17819054307358915746"
     },
     "user_tz": 240
    },
    "id": "ZbzP3baNegP3",
    "outputId": "8b5ea6c7-90c8-483c-9257-4f1a0f4cd47d"
   },
   "outputs": [
    {
     "data": {
      "text/plain": [
       "['fun',\n",
       " 'merriment',\n",
       " 'playfulness',\n",
       " 'fun',\n",
       " 'play',\n",
       " 'sport',\n",
       " 'fun',\n",
       " 'playfulness',\n",
       " 'fun']"
      ]
     },
     "execution_count": 42,
     "metadata": {},
     "output_type": "execute_result"
    }
   ],
   "source": [
    "#Finding synonyms :\n",
    "#Empty list to store synonyms :\n",
    "synonyms = []\n",
    "for words in wordnet.synsets('Fun'):\n",
    "    for lemma in words.lemmas():\n",
    "        synonyms.append(lemma.name())\n",
    "        \n",
    "synonyms"
   ]
  },
  {
   "cell_type": "code",
   "execution_count": 43,
   "metadata": {
    "colab": {
     "base_uri": "https://localhost:8080/",
     "height": 35
    },
    "colab_type": "code",
    "executionInfo": {
     "elapsed": 597,
     "status": "ok",
     "timestamp": 1595441075825,
     "user": {
      "displayName": "Towards AI Co.",
      "photoUrl": "https://lh3.googleusercontent.com/a-/AOh14GhLbx5D2CftHxCgQKz-ZkqP05DaA5ltUq3OgBSm=s64",
      "userId": "17819054307358915746"
     },
     "user_tz": 240
    },
    "id": "Qf7KzP2cehvs",
    "outputId": "5ce1f3e0-8e83-4c6f-d934-3b8cf0100214"
   },
   "outputs": [
    {
     "data": {
      "text/plain": [
       "['evil', 'evilness', 'bad', 'badness', 'bad', 'evil', 'ill']"
      ]
     },
     "execution_count": 43,
     "metadata": {},
     "output_type": "execute_result"
    }
   ],
   "source": [
    "#Finding antonyms :\n",
    "#Empty list to store antonyms :\n",
    "antonyms = []\n",
    "for words in wordnet.synsets('Good'):\n",
    "    for lemma in words.lemmas():\n",
    "        if lemma.antonyms():\n",
    "            antonyms.append(lemma.antonyms()[0].name())         \n",
    "#Print antonyms :            \n",
    "antonyms"
   ]
  },
  {
   "cell_type": "code",
   "execution_count": 44,
   "metadata": {
    "colab": {
     "base_uri": "https://localhost:8080/",
     "height": 35
    },
    "colab_type": "code",
    "executionInfo": {
     "elapsed": 629,
     "status": "ok",
     "timestamp": 1595441081055,
     "user": {
      "displayName": "Towards AI Co.",
      "photoUrl": "https://lh3.googleusercontent.com/a-/AOh14GhLbx5D2CftHxCgQKz-ZkqP05DaA5ltUq3OgBSm=s64",
      "userId": "17819054307358915746"
     },
     "user_tz": 240
    },
    "id": "AdXqU1BCek2W",
    "outputId": "8f663766-5f80-4159-cb81-ae14c47868b3"
   },
   "outputs": [
    {
     "name": "stdout",
     "output_type": "stream",
     "text": [
      "0.9090909090909091\n"
     ]
    }
   ],
   "source": [
    "#Similarity in words :\n",
    "word1 = wordnet.synsets(\"ship\",\"n\")[0]\n",
    "word2 = wordnet.synsets(\"boat\",\"n\")[0] \n",
    "#Check similarity :\n",
    "print(word1.wup_similarity(word2))"
   ]
  },
  {
   "cell_type": "code",
   "execution_count": 45,
   "metadata": {
    "colab": {
     "base_uri": "https://localhost:8080/",
     "height": 35
    },
    "colab_type": "code",
    "executionInfo": {
     "elapsed": 557,
     "status": "ok",
     "timestamp": 1595441083455,
     "user": {
      "displayName": "Towards AI Co.",
      "photoUrl": "https://lh3.googleusercontent.com/a-/AOh14GhLbx5D2CftHxCgQKz-ZkqP05DaA5ltUq3OgBSm=s64",
      "userId": "17819054307358915746"
     },
     "user_tz": 240
    },
    "id": "Kd_lUIn1emHm",
    "outputId": "696ee006-0aa6-449e-c141-8289fcd3c11f"
   },
   "outputs": [
    {
     "name": "stdout",
     "output_type": "stream",
     "text": [
      "0.34782608695652173\n"
     ]
    }
   ],
   "source": [
    "#Similarity in words :\n",
    "word1 = wordnet.synsets(\"ship\",\"n\")[0]\n",
    "word2 = wordnet.synsets(\"bat\",\"n\")[0] \n",
    "#Check similarity :\n",
    "print(word1.wup_similarity(word2)) "
   ]
  },
  {
   "cell_type": "markdown",
   "metadata": {},
   "source": [
    "## Integer_Encoding and One_Hot_Encoding"
   ]
  },
  {
   "cell_type": "code",
   "execution_count": 46,
   "metadata": {},
   "outputs": [
    {
     "name": "stdout",
     "output_type": "stream",
     "text": [
      "['cold', 'cold', 'warm', 'cold', 'hot', 'hot']\n",
      "[0 0 2 0 1 1]\n",
      "[[1. 0. 0.]\n",
      " [1. 0. 0.]\n",
      " [0. 0. 1.]\n",
      " [1. 0. 0.]\n",
      " [0. 1. 0.]\n",
      " [0. 1. 0.]]\n"
     ]
    }
   ],
   "source": [
    "from sklearn.preprocessing import LabelEncoder\n",
    "from sklearn.preprocessing import OneHotEncoder\n",
    "data = ['cold', 'cold', 'warm', 'cold', 'hot', 'hot']\n",
    "print(data)\n",
    "# # integer encode\n",
    "label_encoder = LabelEncoder()\n",
    "integer_encoded = label_encoder.fit_transform(data)\n",
    "print(integer_encoded)\n",
    "# # binary encode\n",
    "onehot_encoder = OneHotEncoder(sparse=False)\n",
    "integer_encoded = integer_encoded.reshape(len(integer_encoded), 1) #Make it column matrix 6x1\n",
    "onehot_encoded = onehot_encoder.fit_transform(integer_encoded)\n",
    "print(onehot_encoded)"
   ]
  },
  {
   "cell_type": "markdown",
   "metadata": {},
   "source": [
    "## Bag of Words"
   ]
  },
  {
   "cell_type": "code",
   "execution_count": 47,
   "metadata": {
    "colab": {
     "base_uri": "https://localhost:8080/",
     "height": 193
    },
    "colab_type": "code",
    "executionInfo": {
     "elapsed": 517,
     "status": "ok",
     "timestamp": 1595441085008,
     "user": {
      "displayName": "Towards AI Co.",
      "photoUrl": "https://lh3.googleusercontent.com/a-/AOh14GhLbx5D2CftHxCgQKz-ZkqP05DaA5ltUq3OgBSm=s64",
      "userId": "17819054307358915746"
     },
     "user_tz": 240
    },
    "id": "mJFlVmGhenvd",
    "outputId": "972eaeb6-4e48-405e-914f-666da3df6cad"
   },
   "outputs": [
    {
     "name": "stdout",
     "output_type": "stream",
     "text": [
      "{'shyam': 5, 'is': 3, 'bad': 0, 'boy': 1, 'ram': 4, 'good': 2}\n",
      "['bad', 'boy', 'good', 'is', 'ram', 'shyam']\n",
      "..........Bag of Words...........\n",
      "[[1 1 0 1 0 1]\n",
      " [0 1 1 1 1 0]]\n"
     ]
    }
   ],
   "source": [
    "from sklearn.feature_extraction.text import CountVectorizer\n",
    "\n",
    "sentences = ['Shyam is a bad boy','Ram is a good boy']\n",
    "cv = CountVectorizer()                              #Create an object \n",
    "B_O_W = cv.fit_transform(sentences).toarray()       #Generating output for Bag of Words :\n",
    "print(cv.vocabulary_)\n",
    "print(cv.get_feature_names())\n",
    "print('..........Bag of Words...........')\n",
    "print(B_O_W)"
   ]
  },
  {
   "cell_type": "code",
   "execution_count": 48,
   "metadata": {},
   "outputs": [
    {
     "name": "stdout",
     "output_type": "stream",
     "text": [
      "{'shyam': 10, 'is': 3, 'good': 1, 'boy': 0, 'shyam is': 11, 'is good': 4, 'good boy': 2, 'ram': 8, 'not': 6, 'ram is': 9, 'is not': 5, 'not good': 7}\n",
      "['boy', 'good', 'good boy', 'is', 'is good', 'is not', 'not', 'not good', 'ram', 'ram is', 'shyam', 'shyam is']\n",
      "..........Bag of Words...........\n",
      "[[1 1 1 1 1 0 0 0 0 0 1 1]\n",
      " [1 1 1 1 0 1 1 1 1 1 0 0]]\n"
     ]
    }
   ],
   "source": [
    "# n gram\n",
    "sentences = ['Shyam is a good boy','Ram is not a good boy']\n",
    "cv = CountVectorizer(ngram_range=(1,2))             #Create an object \n",
    "B_O_W = cv.fit_transform(sentences).toarray()       #Generating output for Bag of Words :\n",
    "print(cv.vocabulary_)\n",
    "print(cv.get_feature_names())\n",
    "print('..........Bag of Words...........')\n",
    "print(B_O_W)"
   ]
  },
  {
   "cell_type": "markdown",
   "metadata": {},
   "source": [
    "## TF-IDF (Term Frequency Inverse Document Frequency)"
   ]
  },
  {
   "cell_type": "code",
   "execution_count": 49,
   "metadata": {
    "colab": {
     "base_uri": "https://localhost:8080/",
     "height": 156
    },
    "colab_type": "code",
    "executionInfo": {
     "elapsed": 620,
     "status": "ok",
     "timestamp": 1595441087698,
     "user": {
      "displayName": "Towards AI Co.",
      "photoUrl": "https://lh3.googleusercontent.com/a-/AOh14GhLbx5D2CftHxCgQKz-ZkqP05DaA5ltUq3OgBSm=s64",
      "userId": "17819054307358915746"
     },
     "user_tz": 240
    },
    "id": "IanI1jqLetx8",
    "outputId": "34e61f4f-fec5-42ef-fe52-ee4dc33afc74"
   },
   "outputs": [
    {
     "name": "stdout",
     "output_type": "stream",
     "text": [
      "{'it': 3, 'is': 2, 'good': 1, 'book': 0, 'not': 4, 'very': 5}\n",
      "['book', 'good', 'is', 'it', 'not', 'very']\n",
      "[[1.         1.         1.         1.         0.         0.        ]\n",
      " [1.         1.         1.         1.         1.91629073 0.        ]\n",
      " [1.         1.         1.         1.         0.         1.51082562]\n",
      " [1.         1.         1.         1.         0.         3.02165125]]\n"
     ]
    }
   ],
   "source": [
    "#Import required libraries :\n",
    "from sklearn.feature_extraction.text import TfidfVectorizer\n",
    "#Sentences for analysis :\n",
    "sentences = ['it is a good book', 'it is not a good book', 'It is a very good book', 'It is very very good book']\n",
    "#Create an object :\n",
    "vectorizer = TfidfVectorizer(norm = None)\n",
    "#Generating output for TF_IDF :\n",
    "X = vectorizer.fit_transform(sentences).toarray()\n",
    "#Total words with their index in model :\n",
    "print(vectorizer.vocabulary_)\n",
    "print(vectorizer.get_feature_names())\n",
    "#Show the output :\n",
    "print(X)"
   ]
  }
 ],
 "metadata": {
  "colab": {
   "name": "Copy of Copy of natural-language-processing-tutorial.ipynb",
   "provenance": [
    {
     "file_id": "1tGFc1hTFnvJPgcDCghWyPqDAR8opYUxa",
     "timestamp": 1600072915166
    },
    {
     "file_id": "1vt4u8Hp-iQIRSFc633Outvl7t3R34-iJ",
     "timestamp": 1600072860597
    }
   ]
  },
  "kernelspec": {
   "display_name": "Python 3",
   "language": "python",
   "name": "python3"
  },
  "language_info": {
   "codemirror_mode": {
    "name": "ipython",
    "version": 3
   },
   "file_extension": ".py",
   "mimetype": "text/x-python",
   "name": "python",
   "nbconvert_exporter": "python",
   "pygments_lexer": "ipython3",
   "version": "3.8.5"
  }
 },
 "nbformat": 4,
 "nbformat_minor": 1
}
